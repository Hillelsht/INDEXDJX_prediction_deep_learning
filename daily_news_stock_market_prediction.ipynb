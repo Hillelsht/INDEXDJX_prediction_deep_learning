{
 "cells": [
  {
   "cell_type": "markdown",
   "id": "821258ba",
   "metadata": {},
   "source": [
    "# Stock Market Movement Prediction Using News Headlines"
   ]
  },
  {
   "cell_type": "markdown",
   "id": "820e255b",
   "metadata": {},
   "source": [
    "## Introduction\n",
    "\n",
    "Predicting stock market movements is a challenging task due to the multitude of factors influencing prices. One such factor is news headlines, which can have significant impacts on investor sentiment and market trends. In this project, we aim to predict the Dow Jones Industrial Average (DJIA) stock movements using news headlines from Reddit's r/worldnews subreddit."
   ]
  },
  {
   "cell_type": "markdown",
   "id": "c74776d8",
   "metadata": {},
   "source": [
    "## 1. Data Gathering and Provenance"
   ]
  },
  {
   "cell_type": "markdown",
   "id": "4338d9b2",
   "metadata": {},
   "source": [
    "#### Data Sources\n",
    "- News Data: Collected from Reddit's r/worldnews subreddit, capturing the top 25 daily news headlines from June 8, 2008, to July 1, 2016.\n",
    "- Stock Data: Dow Jones Industrial Average (DJIA) closing values from August 8, 2008, to July 1, 2016, sourced from Yahoo Finance.\n",
    "#### Data Files\n",
    "- RedditNews.csv: Contains two columns—Date and News Headline. Each date has 25 headlines.\n",
    "- DJIA_table.csv: Historical DJIA stock data.\n",
    "- Combined_News_DJIA.csv: A merged dataset with 27 columns—Date, Label, and Top1 to Top25 headlines.\n",
    "#### Method of Data Collection\n",
    "- News Headlines: Scraped from Reddit using web crawling techniques.\n",
    "- Stock Prices: Downloaded from Yahoo Finance.\n",
    "\n",
    "#### Data Provenance\n",
    "The dataset is provided by Aaron7Sun on Kaggle and is intended for educational and research purposes.\n",
    "\n",
    "https://www.kaggle.com/datasets/aaron7sun/stocknews"
   ]
  },
  {
   "cell_type": "markdown",
   "id": "f7e38ae0",
   "metadata": {},
   "source": [
    "## 2. Identifying the Deep Learning Problem\n",
    "\n",
    "We aim to build a model to predict whether the DJIA stock price will increase or decrease based on daily news headlines. This is a binary classification problem where:\n",
    "\n",
    "* Label 1: DJIA closing price increased or remained the same.\n",
    "* Label 0: DJIA closing price decreased.\n",
    "\n",
    "Given the textual nature of the data, we'll employ Natural Language Processing (NLP) techniques alongside deep learning models such as LSTM and BERT."
   ]
  },
  {
   "cell_type": "markdown",
   "id": "683ec1c3",
   "metadata": {},
   "source": [
    "#### Model Selection and Justification\n",
    "In this project, we explored three different models to predict stock market movements based on news headlines:\n",
    "\n",
    "1. Logistic Regression\n",
    "\n",
    "Logistic Regression is a simple yet effective linear model widely used for binary classification tasks. We selected Logistic Regression as our baseline model due to its simplicity, interpretability, and ease of implementation. It allows us to establish a benchmark performance to assess whether more complex models provide a significant improvement. By starting with Logistic Regression, we can gauge the inherent predictive power of our feature set before introducing more sophisticated techniques.\n",
    "\n",
    "2. Long Short-Term Memory (LSTM) Neural Network\n",
    "\n",
    "LSTM networks are a type of recurrent neural network (RNN) capable of learning long-term dependencies in sequential data. Since news headlines are textual data with potential sequential patterns, LSTMs are well-suited for capturing the temporal dynamics and context within the text. We chose LSTM because it can handle variable-length sequences and retain information over long periods, which might help in understanding the influence of certain words or phrases on stock movements.\n",
    "\n",
    "3. Bidirectional Encoder Representations from Transformers (BERT)\n",
    "\n",
    "BERT is a state-of-the-art pre-trained language model developed by Google. It uses a transformer architecture to capture deep bidirectional representations by considering the context from both the left and right of each word in a sentence. We selected BERT due to its advanced natural language understanding capabilities, which can grasp nuanced meanings, sarcasm, and complex linguistic structures in news headlines. By leveraging BERT, we aim to use transfer learning to improve prediction accuracy without requiring an extremely large dataset for training from scratch."
   ]
  },
  {
   "cell_type": "markdown",
   "id": "4633b20e",
   "metadata": {},
   "source": [
    "## 3. Exploratory Data Analysis (EDA)\n",
    "\n",
    "### 3.1 Importing Libraries"
   ]
  },
  {
   "cell_type": "code",
   "execution_count": 9,
   "id": "0b9aa335",
   "metadata": {
    "_cell_guid": "b1076dfc-b9ad-4769-8c92-a6c4dae69d19",
    "_uuid": "8f2839f25d086af736a60e9eeb907d3b93b6e0e5",
    "execution": {
     "iopub.execute_input": "2024-12-02T09:49:55.908811Z",
     "iopub.status.busy": "2024-12-02T09:49:55.908527Z",
     "iopub.status.idle": "2024-12-02T09:49:57.865671Z",
     "shell.execute_reply": "2024-12-02T09:49:57.864979Z"
    },
    "papermill": {
     "duration": 1.96556,
     "end_time": "2024-12-02T09:49:57.867638",
     "exception": false,
     "start_time": "2024-12-02T09:49:55.902078",
     "status": "completed"
    },
    "tags": []
   },
   "outputs": [],
   "source": [
    "import pandas as pd\n",
    "import numpy as np\n",
    "import kagglehub\n",
    "import matplotlib.pyplot as plt\n",
    "import seaborn as sns"
   ]
  },
  {
   "cell_type": "markdown",
   "id": "39fa00e5",
   "metadata": {},
   "source": [
    "### 3.2 Loading the Data"
   ]
  },
  {
   "cell_type": "code",
   "execution_count": 10,
   "id": "6137ee37",
   "metadata": {
    "execution": {
     "iopub.execute_input": "2024-12-02T09:49:57.877953Z",
     "iopub.status.busy": "2024-12-02T09:49:57.877619Z",
     "iopub.status.idle": "2024-12-02T09:49:58.180484Z",
     "shell.execute_reply": "2024-12-02T09:49:58.179798Z"
    },
    "papermill": {
     "duration": 0.310047,
     "end_time": "2024-12-02T09:49:58.182513",
     "exception": false,
     "start_time": "2024-12-02T09:49:57.872466",
     "status": "completed"
    },
    "tags": []
   },
   "outputs": [],
   "source": [
    "# Download the latest version of the data\n",
    "path = kagglehub.dataset_download(\"aaron7sun/stocknews\")\n",
    "df = pd.read_csv(f\"{path}/Combined_News_DJIA.csv\")"
   ]
  },
  {
   "cell_type": "markdown",
   "id": "1c192ea5",
   "metadata": {},
   "source": [
    "### 3.3 Data Overview"
   ]
  },
  {
   "cell_type": "code",
   "execution_count": 11,
   "id": "3c9e7199",
   "metadata": {
    "execution": {
     "iopub.execute_input": "2024-12-02T09:49:58.193139Z",
     "iopub.status.busy": "2024-12-02T09:49:58.192604Z",
     "iopub.status.idle": "2024-12-02T09:49:58.197351Z",
     "shell.execute_reply": "2024-12-02T09:49:58.196458Z"
    },
    "papermill": {
     "duration": 0.011527,
     "end_time": "2024-12-02T09:49:58.198904",
     "exception": false,
     "start_time": "2024-12-02T09:49:58.187377",
     "status": "completed"
    },
    "tags": []
   },
   "outputs": [
    {
     "name": "stdout",
     "output_type": "stream",
     "text": [
      "Dataset shape: (1989, 27)\n",
      "Index(['Date', 'Label', 'Top1', 'Top2', 'Top3', 'Top4', 'Top5', 'Top6', 'Top7',\n",
      "       'Top8', 'Top9', 'Top10', 'Top11', 'Top12', 'Top13', 'Top14', 'Top15',\n",
      "       'Top16', 'Top17', 'Top18', 'Top19', 'Top20', 'Top21', 'Top22', 'Top23',\n",
      "       'Top24', 'Top25'],\n",
      "      dtype='object')\n"
     ]
    }
   ],
   "source": [
    "print(f'Dataset shape: {df.shape}')\n",
    "print(df.columns)"
   ]
  },
  {
   "cell_type": "markdown",
   "id": "7810d102",
   "metadata": {},
   "source": [
    "### 3.4 Checking for Missing Values"
   ]
  },
  {
   "cell_type": "code",
   "execution_count": 12,
   "id": "d723c1be",
   "metadata": {
    "execution": {
     "iopub.execute_input": "2024-12-02T09:49:58.209810Z",
     "iopub.status.busy": "2024-12-02T09:49:58.209349Z",
     "iopub.status.idle": "2024-12-02T09:49:58.218784Z",
     "shell.execute_reply": "2024-12-02T09:49:58.217819Z"
    },
    "papermill": {
     "duration": 0.016072,
     "end_time": "2024-12-02T09:49:58.220443",
     "exception": false,
     "start_time": "2024-12-02T09:49:58.204371",
     "status": "completed"
    },
    "tags": []
   },
   "outputs": [
    {
     "name": "stdout",
     "output_type": "stream",
     "text": [
      "Date     0\n",
      "Label    0\n",
      "Top1     0\n",
      "Top2     0\n",
      "Top3     0\n",
      "Top4     0\n",
      "Top5     0\n",
      "Top6     0\n",
      "Top7     0\n",
      "Top8     0\n",
      "Top9     0\n",
      "Top10    0\n",
      "Top11    0\n",
      "Top12    0\n",
      "Top13    0\n",
      "Top14    0\n",
      "Top15    0\n",
      "Top16    0\n",
      "Top17    0\n",
      "Top18    0\n",
      "Top19    0\n",
      "Top20    0\n",
      "Top21    0\n",
      "Top22    0\n",
      "Top23    1\n",
      "Top24    3\n",
      "Top25    3\n",
      "dtype: int64\n"
     ]
    }
   ],
   "source": [
    "print(df.isnull().sum())"
   ]
  },
  {
   "cell_type": "markdown",
   "id": "f2299074",
   "metadata": {},
   "source": [
    "### 3.5 Handling Missing Values"
   ]
  },
  {
   "cell_type": "code",
   "execution_count": 13,
   "id": "11ce1c30",
   "metadata": {
    "execution": {
     "iopub.execute_input": "2024-12-02T09:49:58.230390Z",
     "iopub.status.busy": "2024-12-02T09:49:58.230153Z",
     "iopub.status.idle": "2024-12-02T09:49:58.238510Z",
     "shell.execute_reply": "2024-12-02T09:49:58.237943Z"
    },
    "papermill": {
     "duration": 0.015115,
     "end_time": "2024-12-02T09:49:58.240044",
     "exception": false,
     "start_time": "2024-12-02T09:49:58.224929",
     "status": "completed"
    },
    "tags": []
   },
   "outputs": [],
   "source": [
    "df.fillna('', inplace=True)\n"
   ]
  },
  {
   "cell_type": "markdown",
   "id": "a9b69779",
   "metadata": {},
   "source": [
    "### 3.6 Combining Headlines"
   ]
  },
  {
   "cell_type": "code",
   "execution_count": 14,
   "id": "b09de92e",
   "metadata": {
    "execution": {
     "iopub.execute_input": "2024-12-02T09:49:58.250226Z",
     "iopub.status.busy": "2024-12-02T09:49:58.249588Z",
     "iopub.status.idle": "2024-12-02T09:49:58.328334Z",
     "shell.execute_reply": "2024-12-02T09:49:58.327712Z"
    },
    "papermill": {
     "duration": 0.085552,
     "end_time": "2024-12-02T09:49:58.330049",
     "exception": false,
     "start_time": "2024-12-02T09:49:58.244497",
     "status": "completed"
    },
    "tags": []
   },
   "outputs": [],
   "source": [
    "# Combine headlines into a single text per day\n",
    "df['Combined_News'] = df.filter(regex='^Top').apply(lambda row: ' '.join(row.values.astype(str)), axis=1)\n"
   ]
  },
  {
   "cell_type": "markdown",
   "id": "457359d8",
   "metadata": {},
   "source": [
    "Explanation: By concatenating all the headlines for a given day, we create a comprehensive representation of the day's news."
   ]
  },
  {
   "cell_type": "markdown",
   "id": "b23c1b1a",
   "metadata": {},
   "source": [
    "### 3.7 Data Distribution of Labels"
   ]
  },
  {
   "cell_type": "code",
   "execution_count": 15,
   "id": "04852273",
   "metadata": {
    "execution": {
     "iopub.execute_input": "2024-12-02T09:49:58.340768Z",
     "iopub.status.busy": "2024-12-02T09:49:58.340272Z",
     "iopub.status.idle": "2024-12-02T09:49:58.554389Z",
     "shell.execute_reply": "2024-12-02T09:49:58.553547Z"
    },
    "papermill": {
     "duration": 0.220993,
     "end_time": "2024-12-02T09:49:58.555974",
     "exception": false,
     "start_time": "2024-12-02T09:49:58.334981",
     "status": "completed"
    },
    "tags": []
   },
   "outputs": [
    {
     "data": {
      "image/png": "[encoded data removed]",
      "text/plain": [
       "<Figure size 640x480 with 1 Axes>"
      ]
     },
     "metadata": {},
     "output_type": "display_data"
    }
   ],
   "source": [
    "sns.countplot(x='Label', data=df)\n",
    "plt.title('Distribution of Labels')\n",
    "plt.show()\n"
   ]
  },
  {
   "cell_type": "markdown",
   "id": "0d93799a",
   "metadata": {},
   "source": [
    "Observation: The dataset is relatively balanced."
   ]
  },
  {
   "cell_type": "markdown",
   "id": "527be081",
   "metadata": {},
   "source": [
    "### 3.8 Text Preprocessing"
   ]
  },
  {
   "cell_type": "code",
   "execution_count": 16,
   "id": "92c7a07e",
   "metadata": {
    "execution": {
     "iopub.execute_input": "2024-12-02T09:49:58.566781Z",
     "iopub.status.busy": "2024-12-02T09:49:58.566526Z",
     "iopub.status.idle": "2024-12-02T09:52:02.937637Z",
     "shell.execute_reply": "2024-12-02T09:52:02.936889Z"
    },
    "papermill": {
     "duration": 124.378758,
     "end_time": "2024-12-02T09:52:02.939720",
     "exception": false,
     "start_time": "2024-12-02T09:49:58.560962",
     "status": "completed"
    },
    "tags": []
   },
   "outputs": [
    {
     "name": "stderr",
     "output_type": "stream",
     "text": [
      "[nltk_data] Downloading package stopwords to\n",
      "[nltk_data]     C:\\Users\\hisht\\AppData\\Roaming\\nltk_data...\n",
      "[nltk_data]   Package stopwords is already up-to-date!\n",
      "[nltk_data] Downloading package wordnet to\n",
      "[nltk_data]     C:\\Users\\hisht\\AppData\\Roaming\\nltk_data...\n",
      "[nltk_data]   Package wordnet is already up-to-date!\n"
     ]
    }
   ],
   "source": [
    "import nltk\n",
    "from nltk.corpus import stopwords\n",
    "import re\n",
    "\n",
    "nltk.download('stopwords')\n",
    "nltk.download('wordnet')\n",
    "\n",
    "stop_words = set(stopwords.words('english'))\n",
    "# Explanation: Stop words are common words that usually don't contribute much meaning and can be removed to reduce noise.\n",
    "def preprocess_text(text):\n",
    "    # Remove punctuation and lowercase\n",
    "    text = re.sub(r'[^\\w\\s]', '', text.lower())\n",
    "    # Tokenize the text into words\n",
    "    tokens = text.split()\n",
    "    # Remove stopwords from the tokens\n",
    "    tokens = [word for word in tokens if word not in stop_words]\n",
    "    # Lemmatize the tokens to their base form\n",
    "    lemmatizer = nltk.WordNetLemmatizer()\n",
    "    tokens = [lemmatizer.lemmatize(word) for word in tokens]\n",
    "    # Join the tokens back into a single string\n",
    "    return ' '.join(tokens)\n",
    "\n",
    "df['Cleaned_News'] = df['Combined_News'].apply(preprocess_text)"
   ]
  },
  {
   "cell_type": "code",
   "execution_count": 17,
   "id": "f3d13e01",
   "metadata": {
    "execution": {
     "iopub.execute_input": "2024-12-02T09:52:02.950905Z",
     "iopub.status.busy": "2024-12-02T09:52:02.950441Z",
     "iopub.status.idle": "2024-12-02T09:52:02.957750Z",
     "shell.execute_reply": "2024-12-02T09:52:02.956939Z"
    },
    "papermill": {
     "duration": 0.01472,
     "end_time": "2024-12-02T09:52:02.959561",
     "exception": false,
     "start_time": "2024-12-02T09:52:02.944841",
     "status": "completed"
    },
    "tags": []
   },
   "outputs": [
    {
     "data": {
      "text/plain": [
       "0       bgeorgia down two russian warplane country mov...\n",
       "1       bwhy wont america nato help u wont help u help...\n",
       "2       bremember adorable 9yearold sang opening cerem...\n",
       "3       b u refuse israel weapon attack iran report bw...\n",
       "4       ball expert admit legalise drug bwar south ose...\n",
       "                              ...                        \n",
       "1984    barclays rb share suspended trading tanking 8 ...\n",
       "1985    2500 scientist australia want save great barri...\n",
       "1986    explosion airport istanbul yemeni former presi...\n",
       "1987    jamaica proposes marijuana dispenser tourist a...\n",
       "1988    117yearold woman mexico city finally received ...\n",
       "Name: Cleaned_News, Length: 1989, dtype: object"
      ]
     },
     "execution_count": 17,
     "metadata": {},
     "output_type": "execute_result"
    }
   ],
   "source": [
    "df['Cleaned_News']"
   ]
  },
  {
   "cell_type": "markdown",
   "id": "5497702e",
   "metadata": {},
   "source": [
    "### 3.9 Sentiment Analysis"
   ]
  },
  {
   "cell_type": "code",
   "execution_count": 18,
   "id": "2bdc8e8f",
   "metadata": {
    "execution": {
     "iopub.execute_input": "2024-12-02T09:52:02.970579Z",
     "iopub.status.busy": "2024-12-02T09:52:02.970326Z",
     "iopub.status.idle": "2024-12-02T09:52:06.007966Z",
     "shell.execute_reply": "2024-12-02T09:52:06.007284Z"
    },
    "papermill": {
     "duration": 3.045294,
     "end_time": "2024-12-02T09:52:06.009977",
     "exception": false,
     "start_time": "2024-12-02T09:52:02.964683",
     "status": "completed"
    },
    "tags": []
   },
   "outputs": [],
   "source": [
    "from textblob import TextBlob\n",
    "\n",
    "df['Sentiment'] = df['Cleaned_News'].apply(lambda x: TextBlob(x).sentiment.polarity)"
   ]
  },
  {
   "cell_type": "markdown",
   "id": "e74ca031",
   "metadata": {},
   "source": [
    "### 3.10 Sentiment Distribution by Label"
   ]
  },
  {
   "cell_type": "code",
   "execution_count": 19,
   "id": "fb5dc3e4",
   "metadata": {
    "execution": {
     "iopub.execute_input": "2024-12-02T09:52:06.021695Z",
     "iopub.status.busy": "2024-12-02T09:52:06.021380Z",
     "iopub.status.idle": "2024-12-02T09:52:06.230060Z",
     "shell.execute_reply": "2024-12-02T09:52:06.229193Z"
    },
    "papermill": {
     "duration": 0.216544,
     "end_time": "2024-12-02T09:52:06.231919",
     "exception": false,
     "start_time": "2024-12-02T09:52:06.015375",
     "status": "completed"
    },
    "tags": []
   },
   "outputs": [
    {
     "data": {
      "image/png": "[encoded data removed]",
      "text/plain": [
       "<Figure size 640x480 with 1 Axes>"
      ]
     },
     "metadata": {},
     "output_type": "display_data"
    }
   ],
   "source": [
    "sns.boxplot(x='Label', y='Sentiment', data=df)\n",
    "plt.title('Sentiment Distribution by Label')\n",
    "plt.show()"
   ]
  },
  {
   "cell_type": "markdown",
   "id": "1421999d",
   "metadata": {},
   "source": [
    "### 3.11 Data Visualization\n",
    "\n",
    "Word Cloud of Positive and Negative News"
   ]
  },
  {
   "cell_type": "code",
   "execution_count": 20,
   "id": "ff1e607c",
   "metadata": {
    "execution": {
     "iopub.execute_input": "2024-12-02T09:52:06.245577Z",
     "iopub.status.busy": "2024-12-02T09:52:06.244959Z",
     "iopub.status.idle": "2024-12-02T09:52:10.311338Z",
     "shell.execute_reply": "2024-12-02T09:52:10.310467Z"
    },
    "papermill": {
     "duration": 4.076283,
     "end_time": "2024-12-02T09:52:10.315109",
     "exception": false,
     "start_time": "2024-12-02T09:52:06.238826",
     "status": "completed"
    },
    "tags": []
   },
   "outputs": [
    {
     "data": {
      "image/png": "[encoded data removed]",
      "text/plain": [
       "<Figure size 1200x600 with 2 Axes>"
      ]
     },
     "metadata": {},
     "output_type": "display_data"
    }
   ],
   "source": [
    "from wordcloud import WordCloud\n",
    "\n",
    "# Positive News\n",
    "positive_text = ' '.join(df[df['Label'] == 1]['Cleaned_News'])\n",
    "wordcloud_pos = WordCloud(max_words=100, background_color='white').generate(positive_text)\n",
    "\n",
    "# Negative News\n",
    "negative_text = ' '.join(df[df['Label'] == 0]['Cleaned_News'])\n",
    "wordcloud_neg = WordCloud(max_words=100, background_color='white').generate(negative_text)\n",
    "\n",
    "# Plotting\n",
    "plt.figure(figsize=(12, 6))\n",
    "plt.subplot(1, 2, 1)\n",
    "plt.imshow(wordcloud_pos, interpolation='bilinear')\n",
    "plt.title('Positive News Word Cloud')\n",
    "plt.axis('off')\n",
    "\n",
    "plt.subplot(1, 2, 2)\n",
    "plt.imshow(wordcloud_neg, interpolation='bilinear')\n",
    "plt.title('Negative News Word Cloud')\n",
    "plt.axis('off')\n",
    "plt.show()\n"
   ]
  },
  {
   "cell_type": "markdown",
   "id": "f06cddde",
   "metadata": {},
   "source": [
    "## 4. Data Preprocessing\n",
    "### 4.1 Splitting the Data"
   ]
  },
  {
   "cell_type": "code",
   "execution_count": 21,
   "id": "7ba837dc",
   "metadata": {
    "execution": {
     "iopub.execute_input": "2024-12-02T09:52:10.333264Z",
     "iopub.status.busy": "2024-12-02T09:52:10.332804Z",
     "iopub.status.idle": "2024-12-02T09:52:10.347046Z",
     "shell.execute_reply": "2024-12-02T09:52:10.346456Z"
    },
    "papermill": {
     "duration": 0.02479,
     "end_time": "2024-12-02T09:52:10.348629",
     "exception": false,
     "start_time": "2024-12-02T09:52:10.323839",
     "status": "completed"
    },
    "tags": []
   },
   "outputs": [],
   "source": [
    "# Convert Date to datetime\n",
    "df['Date'] = pd.to_datetime(df['Date']) # Ensure that dates are in proper datetime format\n",
    "\n",
    "# Split the data into training and testing sets based on date\n",
    "train = df[df['Date'] < '2015-01-01']\n",
    "test = df[df['Date'] >= '2015-01-01']\n",
    "\n",
    "# Explanation: Splitting data chronologically simulates real-world scenarios where we predict future events based on past data.\n",
    "\n",
    "# Separate features and labels for training and testing\n",
    "X_train = train['Cleaned_News']  # Training features\n",
    "y_train = train['Label']         # Training labels\n",
    "X_test = test['Cleaned_News']    # Testing features\n",
    "y_test = test['Label']           # Testing labels"
   ]
  },
  {
   "cell_type": "markdown",
   "id": "ac07875c",
   "metadata": {},
   "source": [
    "### 4.2 Text Vectorization with TF-IDF (for Baseline Model)"
   ]
  },
  {
   "cell_type": "code",
   "execution_count": 22,
   "id": "13116937",
   "metadata": {
    "execution": {
     "iopub.execute_input": "2024-12-02T09:52:10.365445Z",
     "iopub.status.busy": "2024-12-02T09:52:10.365203Z",
     "iopub.status.idle": "2024-12-02T09:52:10.774714Z",
     "shell.execute_reply": "2024-12-02T09:52:10.774017Z"
    },
    "papermill": {
     "duration": 0.420215,
     "end_time": "2024-12-02T09:52:10.776664",
     "exception": false,
     "start_time": "2024-12-02T09:52:10.356449",
     "status": "completed"
    },
    "tags": []
   },
   "outputs": [],
   "source": [
    "from sklearn.feature_extraction.text import TfidfVectorizer\n",
    "\n",
    "tfidf = TfidfVectorizer(max_features=5000)\n",
    "\n",
    "# Fit and transform the training data\n",
    "X_train_tfidf = tfidf.fit_transform(X_train)\n",
    "\n",
    "# Transform the testing data\n",
    "X_test_tfidf = tfidf.transform(X_test)\n"
   ]
  },
  {
   "cell_type": "markdown",
   "id": "0eb27976",
   "metadata": {},
   "source": [
    "Explanation: TF-IDF converts text to numerical features by considering word importance, and limiting features prevents overfitting."
   ]
  },
  {
   "cell_type": "markdown",
   "id": "e36c9132",
   "metadata": {},
   "source": [
    "## 5. Model Training and Evaluation\n",
    "\n",
    "### 5.1 Baseline Model: Logistic Regression"
   ]
  },
  {
   "cell_type": "code",
   "execution_count": 23,
   "id": "2a94f6c1",
   "metadata": {
    "execution": {
     "iopub.execute_input": "2024-12-02T09:52:10.793951Z",
     "iopub.status.busy": "2024-12-02T09:52:10.793699Z",
     "iopub.status.idle": "2024-12-02T09:52:10.865521Z",
     "shell.execute_reply": "2024-12-02T09:52:10.864655Z"
    },
    "papermill": {
     "duration": 0.082396,
     "end_time": "2024-12-02T09:52:10.867259",
     "exception": false,
     "start_time": "2024-12-02T09:52:10.784863",
     "status": "completed"
    },
    "tags": []
   },
   "outputs": [
    {
     "name": "stdout",
     "output_type": "stream",
     "text": [
      "Logistic Regression AUC: 0.47051411290322576\n"
     ]
    }
   ],
   "source": [
    "from sklearn.linear_model import LogisticRegression\n",
    "from sklearn.metrics import roc_auc_score\n",
    "\n",
    "model_lr = LogisticRegression()\n",
    "model_lr.fit(X_train_tfidf, y_train)\n",
    "predictions_lr = model_lr.predict_proba(X_test_tfidf)[:,1]\n",
    "auc_lr = roc_auc_score(y_test, predictions_lr)\n",
    "print(f'Logistic Regression AUC: {auc_lr}')"
   ]
  },
  {
   "cell_type": "markdown",
   "id": "7d3db2cd",
   "metadata": {},
   "source": [
    "### 5.2 Deep Learning Models\n",
    "\n",
    "\n",
    "#### 5.2.1 LSTM Model\n",
    "\n",
    "Text Tokenization and Padding"
   ]
  },
  {
   "cell_type": "code",
   "execution_count": 24,
   "id": "d4983633",
   "metadata": {
    "execution": {
     "iopub.execute_input": "2024-12-02T09:52:10.884300Z",
     "iopub.status.busy": "2024-12-02T09:52:10.883916Z",
     "iopub.status.idle": "2024-12-02T09:52:10.888214Z",
     "shell.execute_reply": "2024-12-02T09:52:10.887306Z"
    },
    "papermill": {
     "duration": 0.014605,
     "end_time": "2024-12-02T09:52:10.889975",
     "exception": false,
     "start_time": "2024-12-02T09:52:10.875370",
     "status": "completed"
    },
    "tags": []
   },
   "outputs": [],
   "source": [
    "epochs_n = 30\n",
    "max_sequence_length = 500\n",
    "patience_n = 15"
   ]
  },
  {
   "cell_type": "code",
   "execution_count": null,
   "id": "dae9daa9",
   "metadata": {
    "execution": {
     "iopub.execute_input": "2024-12-02T09:52:10.907751Z",
     "iopub.status.busy": "2024-12-02T09:52:10.907483Z",
     "iopub.status.idle": "2024-12-02T09:52:22.044526Z",
     "shell.execute_reply": "2024-12-02T09:52:22.043760Z"
    },
    "papermill": {
     "duration": 11.148219,
     "end_time": "2024-12-02T09:52:22.046662",
     "exception": false,
     "start_time": "2024-12-02T09:52:10.898443",
     "status": "completed"
    },
    "tags": []
   },
   "outputs": [],
   "source": [
    "from tensorflow.keras.preprocessing.text import Tokenizer\n",
    "from tensorflow.keras.preprocessing.sequence import pad_sequences\n",
    "\n",
    "# Tokenization\n",
    "tokenizer = Tokenizer(num_words=5000)\n",
    "tokenizer.fit_on_texts(X_train)\n",
    "\n",
    "# Convert texts to sequences of integers\n",
    "X_train_seq = tokenizer.texts_to_sequences(X_train)\n",
    "X_test_seq = tokenizer.texts_to_sequences(X_test)\n",
    "\n",
    "# Explanation: Sequences of integers represent the text data in a format suitable for neural networks.\n",
    "\n",
    "\n",
    "# Padding sequences to ensure consistent input length\n",
    "X_train_pad = pad_sequences(X_train_seq, maxlen=max_sequence_length)\n",
    "X_test_pad = pad_sequences(X_test_seq, maxlen=max_sequence_length)\n",
    "\n",
    "# Explanation: Padding ensures that all sequences are of the same length, which is necessary for batch processing."
   ]
  },
  {
   "cell_type": "markdown",
   "id": "fa7b18d6",
   "metadata": {},
   "source": [
    "Building the LSTM Model"
   ]
  },
  {
   "cell_type": "code",
   "execution_count": 20,
   "id": "2656c7b0",
   "metadata": {
    "execution": {
     "iopub.execute_input": "2024-12-02T09:52:22.065174Z",
     "iopub.status.busy": "2024-12-02T09:52:22.064140Z",
     "iopub.status.idle": "2024-12-02T10:00:31.719053Z",
     "shell.execute_reply": "2024-12-02T10:00:31.718351Z"
    },
    "papermill": {
     "duration": 489.665662,
     "end_time": "2024-12-02T10:00:31.720881",
     "exception": false,
     "start_time": "2024-12-02T09:52:22.055219",
     "status": "completed"
    },
    "tags": []
   },
   "outputs": [
    {
     "name": "stdout",
     "output_type": "stream",
     "text": [
      "Epoch 1/30\n"
     ]
    },
    {
     "name": "stderr",
     "output_type": "stream",
     "text": [
      "C:\\Users\\hisht\\AppData\\Local\\Packages\\PythonSoftwareFoundation.Python.3.11_qbz5n2kfra8p0\\LocalCache\\local-packages\\Python311\\site-packages\\keras\\src\\layers\\core\\embedding.py:90: UserWarning: Argument `input_length` is deprecated. Just remove it.\n",
      "  warnings.warn(\n"
     ]
    },
    {
     "name": "stdout",
     "output_type": "stream",
     "text": [
      "\u001b[1m23/23\u001b[0m \u001b[32m━━━━━━━━━━━━━━━━━━━━\u001b[0m\u001b[37m\u001b[0m \u001b[1m17s\u001b[0m 654ms/step - auc: 0.4967 - loss: 0.7891 - val_auc: 0.4671 - val_loss: 0.7247\n",
      "Epoch 2/30\n",
      "\u001b[1m23/23\u001b[0m \u001b[32m━━━━━━━━━━━━━━━━━━━━\u001b[0m\u001b[37m\u001b[0m \u001b[1m14s\u001b[0m 629ms/step - auc: 0.4947 - loss: 0.7126 - val_auc: 0.4636 - val_loss: 0.7270\n",
      "Epoch 3/30\n",
      "\u001b[1m23/23\u001b[0m \u001b[32m━━━━━━━━━━━━━━━━━━━━\u001b[0m\u001b[37m\u001b[0m \u001b[1m14s\u001b[0m 617ms/step - auc: 0.5036 - loss: 0.7021 - val_auc: 0.4596 - val_loss: 0.7116\n",
      "Epoch 4/30\n",
      "\u001b[1m23/23\u001b[0m \u001b[32m━━━━━━━━━━━━━━━━━━━━\u001b[0m\u001b[37m\u001b[0m \u001b[1m14s\u001b[0m 619ms/step - auc: 0.5828 - loss: 0.6795 - val_auc: 0.4646 - val_loss: 0.7011\n",
      "Epoch 5/30\n",
      "\u001b[1m23/23\u001b[0m \u001b[32m━━━━━━━━━━━━━━━━━━━━\u001b[0m\u001b[37m\u001b[0m \u001b[1m14s\u001b[0m 619ms/step - auc: 0.6645 - loss: 0.6592 - val_auc: 0.4880 - val_loss: 0.6817\n",
      "Epoch 6/30\n",
      "\u001b[1m23/23\u001b[0m \u001b[32m━━━━━━━━━━━━━━━━━━━━\u001b[0m\u001b[37m\u001b[0m \u001b[1m14s\u001b[0m 612ms/step - auc: 0.7485 - loss: 0.6197 - val_auc: 0.4983 - val_loss: 0.7044\n",
      "Epoch 7/30\n",
      "\u001b[1m23/23\u001b[0m \u001b[32m━━━━━━━━━━━━━━━━━━━━\u001b[0m\u001b[37m\u001b[0m \u001b[1m15s\u001b[0m 632ms/step - auc: 0.8233 - loss: 0.5354 - val_auc: 0.4942 - val_loss: 0.7318\n",
      "Epoch 8/30\n",
      "\u001b[1m23/23\u001b[0m \u001b[32m━━━━━━━━━━━━━━━━━━━━\u001b[0m\u001b[37m\u001b[0m \u001b[1m14s\u001b[0m 627ms/step - auc: 0.8780 - loss: 0.4535 - val_auc: 0.4993 - val_loss: 0.7132\n",
      "Epoch 9/30\n",
      "\u001b[1m23/23\u001b[0m \u001b[32m━━━━━━━━━━━━━━━━━━━━\u001b[0m\u001b[37m\u001b[0m \u001b[1m14s\u001b[0m 617ms/step - auc: 0.9104 - loss: 0.3857 - val_auc: 0.5008 - val_loss: 0.7329\n",
      "Epoch 10/30\n",
      "\u001b[1m23/23\u001b[0m \u001b[32m━━━━━━━━━━━━━━━━━━━━\u001b[0m\u001b[37m\u001b[0m \u001b[1m14s\u001b[0m 608ms/step - auc: 0.9429 - loss: 0.3219 - val_auc: 0.4966 - val_loss: 0.7875\n",
      "Epoch 11/30\n",
      "\u001b[1m23/23\u001b[0m \u001b[32m━━━━━━━━━━━━━━━━━━━━\u001b[0m\u001b[37m\u001b[0m \u001b[1m14s\u001b[0m 627ms/step - auc: 0.9311 - loss: 0.3471 - val_auc: 0.4959 - val_loss: 0.8501\n",
      "Epoch 12/30\n",
      "\u001b[1m23/23\u001b[0m \u001b[32m━━━━━━━━━━━━━━━━━━━━\u001b[0m\u001b[37m\u001b[0m \u001b[1m15s\u001b[0m 629ms/step - auc: 0.9704 - loss: 0.2388 - val_auc: 0.5304 - val_loss: 0.8646\n",
      "Epoch 13/30\n",
      "\u001b[1m23/23\u001b[0m \u001b[32m━━━━━━━━━━━━━━━━━━━━\u001b[0m\u001b[37m\u001b[0m \u001b[1m14s\u001b[0m 618ms/step - auc: 0.9803 - loss: 0.1983 - val_auc: 0.5628 - val_loss: 0.8655\n",
      "Epoch 14/30\n",
      "\u001b[1m23/23\u001b[0m \u001b[32m━━━━━━━━━━━━━━━━━━━━\u001b[0m\u001b[37m\u001b[0m \u001b[1m14s\u001b[0m 617ms/step - auc: 0.9841 - loss: 0.1605 - val_auc: 0.5777 - val_loss: 0.9824\n",
      "Epoch 15/30\n",
      "\u001b[1m23/23\u001b[0m \u001b[32m━━━━━━━━━━━━━━━━━━━━\u001b[0m\u001b[37m\u001b[0m \u001b[1m14s\u001b[0m 615ms/step - auc: 0.9953 - loss: 0.0995 - val_auc: 0.5878 - val_loss: 1.1000\n",
      "Epoch 16/30\n",
      "\u001b[1m23/23\u001b[0m \u001b[32m━━━━━━━━━━━━━━━━━━━━\u001b[0m\u001b[37m\u001b[0m \u001b[1m14s\u001b[0m 617ms/step - auc: 0.9978 - loss: 0.0687 - val_auc: 0.5745 - val_loss: 1.1092\n",
      "Epoch 17/30\n",
      "\u001b[1m23/23\u001b[0m \u001b[32m━━━━━━━━━━━━━━━━━━━━\u001b[0m\u001b[37m\u001b[0m \u001b[1m15s\u001b[0m 653ms/step - auc: 0.9980 - loss: 0.0641 - val_auc: 0.5842 - val_loss: 1.4247\n",
      "Epoch 18/30\n",
      "\u001b[1m23/23\u001b[0m \u001b[32m━━━━━━━━━━━━━━━━━━━━\u001b[0m\u001b[37m\u001b[0m \u001b[1m16s\u001b[0m 678ms/step - auc: 0.9981 - loss: 0.0659 - val_auc: 0.5810 - val_loss: 1.5429\n",
      "Epoch 19/30\n",
      "\u001b[1m23/23\u001b[0m \u001b[32m━━━━━━━━━━━━━━━━━━━━\u001b[0m\u001b[37m\u001b[0m \u001b[1m15s\u001b[0m 636ms/step - auc: 0.9992 - loss: 0.0454 - val_auc: 0.5641 - val_loss: 1.5424\n",
      "Epoch 20/30\n",
      "\u001b[1m23/23\u001b[0m \u001b[32m━━━━━━━━━━━━━━━━━━━━\u001b[0m\u001b[37m\u001b[0m \u001b[1m15s\u001b[0m 633ms/step - auc: 0.9996 - loss: 0.0302 - val_auc: 0.5681 - val_loss: 1.7169\n",
      "Epoch 21/30\n",
      "\u001b[1m23/23\u001b[0m \u001b[32m━━━━━━━━━━━━━━━━━━━━\u001b[0m\u001b[37m\u001b[0m \u001b[1m15s\u001b[0m 637ms/step - auc: 1.0000 - loss: 0.0140 - val_auc: 0.5612 - val_loss: 1.9224\n",
      "Epoch 22/30\n",
      "\u001b[1m23/23\u001b[0m \u001b[32m━━━━━━━━━━━━━━━━━━━━\u001b[0m\u001b[37m\u001b[0m \u001b[1m15s\u001b[0m 636ms/step - auc: 0.9999 - loss: 0.0198 - val_auc: 0.5522 - val_loss: 2.1766\n",
      "Epoch 23/30\n",
      "\u001b[1m23/23\u001b[0m \u001b[32m━━━━━━━━━━━━━━━━━━━━\u001b[0m\u001b[37m\u001b[0m \u001b[1m15s\u001b[0m 652ms/step - auc: 0.9999 - loss: 0.0199 - val_auc: 0.5521 - val_loss: 2.0478\n",
      "Epoch 24/30\n",
      "\u001b[1m23/23\u001b[0m \u001b[32m━━━━━━━━━━━━━━━━━━━━\u001b[0m\u001b[37m\u001b[0m \u001b[1m16s\u001b[0m 709ms/step - auc: 1.0000 - loss: 0.0148 - val_auc: 0.5455 - val_loss: 2.0234\n",
      "Epoch 25/30\n",
      "\u001b[1m23/23\u001b[0m \u001b[32m━━━━━━━━━━━━━━━━━━━━\u001b[0m\u001b[37m\u001b[0m \u001b[1m15s\u001b[0m 661ms/step - auc: 1.0000 - loss: 0.0104 - val_auc: 0.5453 - val_loss: 2.1672\n",
      "Epoch 26/30\n",
      "\u001b[1m23/23\u001b[0m \u001b[32m━━━━━━━━━━━━━━━━━━━━\u001b[0m\u001b[37m\u001b[0m \u001b[1m15s\u001b[0m 658ms/step - auc: 0.9999 - loss: 0.0151 - val_auc: 0.5495 - val_loss: 2.1328\n",
      "Epoch 27/30\n",
      "\u001b[1m23/23\u001b[0m \u001b[32m━━━━━━━━━━━━━━━━━━━━\u001b[0m\u001b[37m\u001b[0m \u001b[1m15s\u001b[0m 654ms/step - auc: 1.0000 - loss: 0.0095 - val_auc: 0.5489 - val_loss: 2.3502\n",
      "Epoch 28/30\n",
      "\u001b[1m23/23\u001b[0m \u001b[32m━━━━━━━━━━━━━━━━━━━━\u001b[0m\u001b[37m\u001b[0m \u001b[1m15s\u001b[0m 657ms/step - auc: 0.9999 - loss: 0.0105 - val_auc: 0.5357 - val_loss: 2.4866\n",
      "Epoch 29/30\n",
      "\u001b[1m23/23\u001b[0m \u001b[32m━━━━━━━━━━━━━━━━━━━━\u001b[0m\u001b[37m\u001b[0m \u001b[1m15s\u001b[0m 659ms/step - auc: 0.9999 - loss: 0.0132 - val_auc: 0.5444 - val_loss: 2.3482\n",
      "Epoch 30/30\n",
      "\u001b[1m23/23\u001b[0m \u001b[32m━━━━━━━━━━━━━━━━━━━━\u001b[0m\u001b[37m\u001b[0m \u001b[1m15s\u001b[0m 654ms/step - auc: 1.0000 - loss: 0.0076 - val_auc: 0.5244 - val_loss: 2.3017\n"
     ]
    }
   ],
   "source": [
    "from tensorflow.keras.models import Sequential\n",
    "from tensorflow.keras.layers import Embedding, LSTM, Dense, Dropout, BatchNormalization\n",
    "from tensorflow.keras.callbacks import EarlyStopping, ModelCheckpoint\n",
    "from tensorflow.keras.metrics import AUC\n",
    "\n",
    "# Building the LSTM Model with additional improvements\n",
    "model_lstm = Sequential()\n",
    "model_lstm.add(Embedding(input_dim=5000, output_dim=256, input_length=max_sequence_length))\n",
    "model_lstm.add(BatchNormalization())\n",
    "model_lstm.add(LSTM(128, dropout=0.3, recurrent_dropout=0.3))\n",
    "model_lstm.add(Dropout(0.3))\n",
    "model_lstm.add(Dense(1, activation='sigmoid'))\n",
    "\n",
    "model_lstm.compile(loss='binary_crossentropy', optimizer='adam', metrics=[AUC(name='auc')])\n",
    "\n",
    "# Callbacks\n",
    "early_stopping = EarlyStopping(monitor='val_auc', patience=patience_n, mode='max', restore_best_weights=True)\n",
    "model_checkpoint = ModelCheckpoint('best_model_lstm.keras', monitor='val_auc', mode='max', save_best_only=True)\n",
    "\n",
    "# Training the model with callbacks\n",
    "history_lstm = model_lstm.fit(\n",
    "    X_train_pad,\n",
    "    y_train,\n",
    "    epochs=epochs_n,\n",
    "    batch_size=64,\n",
    "    validation_split=0.1,\n",
    "    callbacks=[early_stopping, model_checkpoint]\n",
    ")\n"
   ]
  },
  {
   "cell_type": "code",
   "execution_count": null,
   "id": "b9362602",
   "metadata": {},
   "outputs": [
    {
     "name": "stdout",
     "output_type": "stream",
     "text": [
      "\u001b[1m12/12\u001b[0m \u001b[32m━━━━━━━━━━━━━━━━━━━━\u001b[0m\u001b[37m\u001b[0m \u001b[1m2s\u001b[0m 178ms/step - auc: 0.4825 - loss: 1.9627\n",
      "LSTM Test Loss: 1.9690072536468506\n",
      "LSTM Test AUC: 0.47535842657089233\n"
     ]
    }
   ],
   "source": [
    "# Evaluate the model\n",
    "test_loss, test_auc = model_lstm.evaluate(X_test_pad, y_test)\n",
    "print(f'LSTM Test Loss: {test_loss}')\n",
    "print(f'LSTM Test AUC: {test_auc}')"
   ]
  },
  {
   "cell_type": "markdown",
   "id": "e3fb18e0",
   "metadata": {},
   "source": [
    "#### 5.2.2 Bidirectional LSTM Model\n",
    "\n",
    "Building the Bidirectional LSTM Model"
   ]
  },
  {
   "cell_type": "code",
   "execution_count": 20,
   "id": "379d4607",
   "metadata": {
    "execution": {
     "iopub.execute_input": "2024-12-02T10:00:34.006940Z",
     "iopub.status.busy": "2024-12-02T10:00:34.006625Z",
     "iopub.status.idle": "2024-12-02T10:13:18.080792Z",
     "shell.execute_reply": "2024-12-02T10:13:18.080070Z"
    },
    "papermill": {
     "duration": 764.118162,
     "end_time": "2024-12-02T10:13:18.082800",
     "exception": false,
     "start_time": "2024-12-02T10:00:33.964638",
     "status": "completed"
    },
    "tags": []
   },
   "outputs": [
    {
     "name": "stdout",
     "output_type": "stream",
     "text": [
      "Epoch 1/30\n",
      "\u001b[1m23/23\u001b[0m \u001b[32m━━━━━━━━━━━━━━━━━━━━\u001b[0m\u001b[37m\u001b[0m \u001b[1m30s\u001b[0m 1s/step - auc: 0.5223 - loss: 0.7233 - val_auc: 0.5185 - val_loss: 0.6959\n",
      "Epoch 2/30\n",
      "\u001b[1m23/23\u001b[0m \u001b[32m━━━━━━━━━━━━━━━━━━━━\u001b[0m\u001b[37m\u001b[0m \u001b[1m26s\u001b[0m 1s/step - auc: 0.7632 - loss: 0.6107 - val_auc: 0.4970 - val_loss: 0.6948\n",
      "Epoch 3/30\n",
      "\u001b[1m23/23\u001b[0m \u001b[32m━━━━━━━━━━━━━━━━━━━━\u001b[0m\u001b[37m\u001b[0m \u001b[1m25s\u001b[0m 1s/step - auc: 0.9404 - loss: 0.3900 - val_auc: 0.5314 - val_loss: 0.6923\n",
      "Epoch 4/30\n",
      "\u001b[1m23/23\u001b[0m \u001b[32m━━━━━━━━━━━━━━━━━━━━\u001b[0m\u001b[37m\u001b[0m \u001b[1m25s\u001b[0m 1s/step - auc: 0.9853 - loss: 0.1855 - val_auc: 0.5174 - val_loss: 0.6992\n",
      "Epoch 5/30\n",
      "\u001b[1m23/23\u001b[0m \u001b[32m━━━━━━━━━━━━━━━━━━━━\u001b[0m\u001b[37m\u001b[0m \u001b[1m26s\u001b[0m 1s/step - auc: 0.9985 - loss: 0.0793 - val_auc: 0.4997 - val_loss: 0.7502\n",
      "Epoch 6/30\n",
      "\u001b[1m23/23\u001b[0m \u001b[32m━━━━━━━━━━━━━━━━━━━━\u001b[0m\u001b[37m\u001b[0m \u001b[1m25s\u001b[0m 1s/step - auc: 0.9999 - loss: 0.0269 - val_auc: 0.5206 - val_loss: 1.0574\n",
      "Epoch 7/30\n",
      "\u001b[1m23/23\u001b[0m \u001b[32m━━━━━━━━━━━━━━━━━━━━\u001b[0m\u001b[37m\u001b[0m \u001b[1m26s\u001b[0m 1s/step - auc: 0.9987 - loss: 0.0545 - val_auc: 0.5483 - val_loss: 1.1772\n",
      "Epoch 8/30\n",
      "\u001b[1m23/23\u001b[0m \u001b[32m━━━━━━━━━━━━━━━━━━━━\u001b[0m\u001b[37m\u001b[0m \u001b[1m25s\u001b[0m 1s/step - auc: 0.9999 - loss: 0.0178 - val_auc: 0.4682 - val_loss: 1.6377\n",
      "Epoch 9/30\n",
      "\u001b[1m23/23\u001b[0m \u001b[32m━━━━━━━━━━━━━━━━━━━━\u001b[0m\u001b[37m\u001b[0m \u001b[1m26s\u001b[0m 1s/step - auc: 1.0000 - loss: 0.0112 - val_auc: 0.5034 - val_loss: 1.6836\n",
      "Epoch 10/30\n",
      "\u001b[1m23/23\u001b[0m \u001b[32m━━━━━━━━━━━━━━━━━━━━\u001b[0m\u001b[37m\u001b[0m \u001b[1m25s\u001b[0m 1s/step - auc: 1.0000 - loss: 0.0053 - val_auc: 0.5223 - val_loss: 1.7143\n",
      "Epoch 11/30\n",
      "\u001b[1m23/23\u001b[0m \u001b[32m━━━━━━━━━━━━━━━━━━━━\u001b[0m\u001b[37m\u001b[0m \u001b[1m25s\u001b[0m 1s/step - auc: 1.0000 - loss: 0.0053 - val_auc: 0.4596 - val_loss: 2.0810\n",
      "Epoch 12/30\n",
      "\u001b[1m23/23\u001b[0m \u001b[32m━━━━━━━━━━━━━━━━━━━━\u001b[0m\u001b[37m\u001b[0m \u001b[1m25s\u001b[0m 1s/step - auc: 1.0000 - loss: 0.0033 - val_auc: 0.5184 - val_loss: 2.0205\n",
      "Epoch 13/30\n",
      "\u001b[1m23/23\u001b[0m \u001b[32m━━━━━━━━━━━━━━━━━━━━\u001b[0m\u001b[37m\u001b[0m \u001b[1m25s\u001b[0m 1s/step - auc: 1.0000 - loss: 0.0031 - val_auc: 0.5400 - val_loss: 2.1341\n",
      "Epoch 14/30\n",
      "\u001b[1m23/23\u001b[0m \u001b[32m━━━━━━━━━━━━━━━━━━━━\u001b[0m\u001b[37m\u001b[0m \u001b[1m25s\u001b[0m 1s/step - auc: 1.0000 - loss: 0.0011 - val_auc: 0.4728 - val_loss: 2.6830\n",
      "Epoch 15/30\n",
      "\u001b[1m23/23\u001b[0m \u001b[32m━━━━━━━━━━━━━━━━━━━━\u001b[0m\u001b[37m\u001b[0m \u001b[1m25s\u001b[0m 1s/step - auc: 1.0000 - loss: 0.0016 - val_auc: 0.4883 - val_loss: 2.4836\n",
      "Epoch 16/30\n",
      "\u001b[1m23/23\u001b[0m \u001b[32m━━━━━━━━━━━━━━━━━━━━\u001b[0m\u001b[37m\u001b[0m \u001b[1m25s\u001b[0m 1s/step - auc: 1.0000 - loss: 0.0013 - val_auc: 0.5436 - val_loss: 2.3397\n",
      "Epoch 17/30\n",
      "\u001b[1m23/23\u001b[0m \u001b[32m━━━━━━━━━━━━━━━━━━━━\u001b[0m\u001b[37m\u001b[0m \u001b[1m25s\u001b[0m 1s/step - auc: 1.0000 - loss: 0.0019 - val_auc: 0.4468 - val_loss: 2.7143\n",
      "Epoch 18/30\n",
      "\u001b[1m23/23\u001b[0m \u001b[32m━━━━━━━━━━━━━━━━━━━━\u001b[0m\u001b[37m\u001b[0m \u001b[1m26s\u001b[0m 1s/step - auc: 1.0000 - loss: 0.0020 - val_auc: 0.5505 - val_loss: 2.5829\n",
      "Epoch 19/30\n",
      "\u001b[1m23/23\u001b[0m \u001b[32m━━━━━━━━━━━━━━━━━━━━\u001b[0m\u001b[37m\u001b[0m \u001b[1m25s\u001b[0m 1s/step - auc: 1.0000 - loss: 0.0021 - val_auc: 0.5219 - val_loss: 2.7339\n",
      "Epoch 20/30\n",
      "\u001b[1m23/23\u001b[0m \u001b[32m━━━━━━━━━━━━━━━━━━━━\u001b[0m\u001b[37m\u001b[0m \u001b[1m25s\u001b[0m 1s/step - auc: 1.0000 - loss: 0.0053 - val_auc: 0.4934 - val_loss: 3.1108\n",
      "Epoch 21/30\n",
      "\u001b[1m23/23\u001b[0m \u001b[32m━━━━━━━━━━━━━━━━━━━━\u001b[0m\u001b[37m\u001b[0m \u001b[1m25s\u001b[0m 1s/step - auc: 1.0000 - loss: 9.4176e-04 - val_auc: 0.4817 - val_loss: 3.0395\n",
      "Epoch 22/30\n",
      "\u001b[1m23/23\u001b[0m \u001b[32m━━━━━━━━━━━━━━━━━━━━\u001b[0m\u001b[37m\u001b[0m \u001b[1m25s\u001b[0m 1s/step - auc: 1.0000 - loss: 7.8194e-04 - val_auc: 0.4724 - val_loss: 3.1265\n",
      "Epoch 23/30\n",
      "\u001b[1m23/23\u001b[0m \u001b[32m━━━━━━━━━━━━━━━━━━━━\u001b[0m\u001b[37m\u001b[0m \u001b[1m25s\u001b[0m 1s/step - auc: 1.0000 - loss: 4.9637e-04 - val_auc: 0.5054 - val_loss: 3.0031\n",
      "Epoch 24/30\n",
      "\u001b[1m23/23\u001b[0m \u001b[32m━━━━━━━━━━━━━━━━━━━━\u001b[0m\u001b[37m\u001b[0m \u001b[1m25s\u001b[0m 1s/step - auc: 1.0000 - loss: 0.0012 - val_auc: 0.5181 - val_loss: 2.9815\n",
      "Epoch 25/30\n",
      "\u001b[1m23/23\u001b[0m \u001b[32m━━━━━━━━━━━━━━━━━━━━\u001b[0m\u001b[37m\u001b[0m \u001b[1m25s\u001b[0m 1s/step - auc: 1.0000 - loss: 5.6583e-04 - val_auc: 0.5206 - val_loss: 2.9837\n",
      "Epoch 26/30\n",
      "\u001b[1m23/23\u001b[0m \u001b[32m━━━━━━━━━━━━━━━━━━━━\u001b[0m\u001b[37m\u001b[0m \u001b[1m25s\u001b[0m 1s/step - auc: 1.0000 - loss: 4.9343e-04 - val_auc: 0.5270 - val_loss: 2.9777\n",
      "Epoch 27/30\n",
      "\u001b[1m23/23\u001b[0m \u001b[32m━━━━━━━━━━━━━━━━━━━━\u001b[0m\u001b[37m\u001b[0m \u001b[1m25s\u001b[0m 1s/step - auc: 1.0000 - loss: 3.1079e-04 - val_auc: 0.5383 - val_loss: 3.0066\n",
      "Epoch 28/30\n",
      "\u001b[1m23/23\u001b[0m \u001b[32m━━━━━━━━━━━━━━━━━━━━\u001b[0m\u001b[37m\u001b[0m \u001b[1m26s\u001b[0m 1s/step - auc: 1.0000 - loss: 3.2998e-04 - val_auc: 0.5331 - val_loss: 3.0514\n",
      "Epoch 29/30\n",
      "\u001b[1m23/23\u001b[0m \u001b[32m━━━━━━━━━━━━━━━━━━━━\u001b[0m\u001b[37m\u001b[0m \u001b[1m25s\u001b[0m 1s/step - auc: 1.0000 - loss: 7.8364e-04 - val_auc: 0.5178 - val_loss: 3.1005\n",
      "Epoch 30/30\n",
      "\u001b[1m23/23\u001b[0m \u001b[32m━━━━━━━━━━━━━━━━━━━━\u001b[0m\u001b[37m\u001b[0m \u001b[1m25s\u001b[0m 1s/step - auc: 1.0000 - loss: 0.0010 - val_auc: 0.5278 - val_loss: 3.0380\n"
     ]
    }
   ],
   "source": [
    "from tensorflow.keras.layers import Bidirectional\n",
    "\n",
    "# Building the Bidirectional LSTM Model with additional improvements\n",
    "model_bilstm = Sequential()\n",
    "model_bilstm.add(Embedding(input_dim=5000, output_dim=256, input_length=max_sequence_length))\n",
    "model_bilstm.add(BatchNormalization())\n",
    "model_bilstm.add(Bidirectional(LSTM(128, dropout=0.3, recurrent_dropout=0.3)))\n",
    "model_bilstm.add(Dropout(0.3))\n",
    "model_bilstm.add(Dense(1, activation='sigmoid'))\n",
    "\n",
    "model_bilstm.compile(loss='binary_crossentropy', optimizer='adam', metrics=[AUC(name='auc')])\n",
    "\n",
    "# Callbacks\n",
    "early_stopping_bi = EarlyStopping(monitor='val_auc', patience=patience_n, mode='max', restore_best_weights=True)\n",
    "model_checkpoint_bi = ModelCheckpoint('best_model_bilstm.keras', monitor='val_auc', mode='max', save_best_only=True)\n",
    "\n",
    "# Training the model with callbacks\n",
    "history_bilstm = model_bilstm.fit(\n",
    "    X_train_pad,\n",
    "    y_train,\n",
    "    epochs=epochs_n,\n",
    "    batch_size=64,\n",
    "    validation_split=0.1,\n",
    "    callbacks=[early_stopping_bi, model_checkpoint_bi]\n",
    ")\n",
    "\n"
   ]
  },
  {
   "cell_type": "code",
   "execution_count": 21,
   "id": "7e71beb1",
   "metadata": {
    "execution": {
     "iopub.execute_input": "2024-12-02T10:13:18.235940Z",
     "iopub.status.busy": "2024-12-02T10:13:18.235303Z",
     "iopub.status.idle": "2024-12-02T10:13:21.114438Z",
     "shell.execute_reply": "2024-12-02T10:13:21.113653Z"
    },
    "papermill": {
     "duration": 2.956385,
     "end_time": "2024-12-02T10:13:21.116002",
     "exception": false,
     "start_time": "2024-12-02T10:13:18.159617",
     "status": "completed"
    },
    "tags": []
   },
   "outputs": [
    {
     "name": "stdout",
     "output_type": "stream",
     "text": [
      "\u001b[1m12/12\u001b[0m \u001b[32m━━━━━━━━━━━━━━━━━━━━\u001b[0m\u001b[37m\u001b[0m \u001b[1m3s\u001b[0m 234ms/step - auc: 0.4891 - loss: 2.7534\n",
      "Bidirectional LSTM Test Loss: 2.9075427055358887\n",
      "Bidirectional LSTM Test AUC: 0.4781305491924286\n"
     ]
    }
   ],
   "source": [
    "\n",
    "# Evaluate the model\n",
    "test_loss, test_auc = model_bilstm.evaluate(X_test_pad, y_test)\n",
    "print(f'Bidirectional LSTM Test Loss: {test_loss}')\n",
    "print(f'Bidirectional LSTM Test AUC: {test_auc}')"
   ]
  },
  {
   "cell_type": "markdown",
   "id": "ac0c9c5d",
   "metadata": {},
   "source": [
    "#### 5.2.3 BERT Model\n"
   ]
  },
  {
   "cell_type": "code",
   "execution_count": 22,
   "id": "6af25c2c",
   "metadata": {
    "execution": {
     "iopub.execute_input": "2024-12-02T10:13:21.266591Z",
     "iopub.status.busy": "2024-12-02T10:13:21.266302Z",
     "iopub.status.idle": "2024-12-02T11:18:18.099039Z",
     "shell.execute_reply": "2024-12-02T11:18:18.098136Z"
    },
    "papermill": {
     "duration": 3896.909453,
     "end_time": "2024-12-02T11:18:18.100823",
     "exception": false,
     "start_time": "2024-12-02T10:13:21.191370",
     "status": "completed"
    },
    "tags": []
   },
   "outputs": [
    {
     "data": {
      "application/vnd.jupyter.widget-view+json": {
       "model_id": "099ca1042729452f99ae5af916919f0f",
       "version_major": 2,
       "version_minor": 0
      },
      "text/plain": [
       "tokenizer_config.json:   0%|          | 0.00/48.0 [00:00<?, ?B/s]"
      ]
     },
     "metadata": {},
     "output_type": "display_data"
    },
    {
     "data": {
      "application/vnd.jupyter.widget-view+json": {
       "model_id": "84f36add851042a5b6af5e446a6c6db0",
       "version_major": 2,
       "version_minor": 0
      },
      "text/plain": [
       "vocab.txt:   0%|          | 0.00/232k [00:00<?, ?B/s]"
      ]
     },
     "metadata": {},
     "output_type": "display_data"
    },
    {
     "data": {
      "application/vnd.jupyter.widget-view+json": {
       "model_id": "7ccd4f9484f749cbb1cba13312789008",
       "version_major": 2,
       "version_minor": 0
      },
      "text/plain": [
       "tokenizer.json:   0%|          | 0.00/466k [00:00<?, ?B/s]"
      ]
     },
     "metadata": {},
     "output_type": "display_data"
    },
    {
     "data": {
      "application/vnd.jupyter.widget-view+json": {
       "model_id": "46e70be0e43d4d33900c16a40928e8d3",
       "version_major": 2,
       "version_minor": 0
      },
      "text/plain": [
       "config.json:   0%|          | 0.00/570 [00:00<?, ?B/s]"
      ]
     },
     "metadata": {},
     "output_type": "display_data"
    },
    {
     "data": {
      "application/vnd.jupyter.widget-view+json": {
       "model_id": "a87992ee78f6486197f933e2aaf2916d",
       "version_major": 2,
       "version_minor": 0
      },
      "text/plain": [
       "model.safetensors:   0%|          | 0.00/440M [00:00<?, ?B/s]"
      ]
     },
     "metadata": {},
     "output_type": "display_data"
    },
    {
     "name": "stderr",
     "output_type": "stream",
     "text": [
      "All PyTorch model weights were used when initializing TFBertForSequenceClassification.\n",
      "\n",
      "Some weights or buffers of the TF 2.0 model TFBertForSequenceClassification were not initialized from the PyTorch model and are newly initialized: ['classifier.weight', 'classifier.bias']\n",
      "You should probably TRAIN this model on a down-stream task to be able to use it for predictions and inference.\n"
     ]
    },
    {
     "name": "stdout",
     "output_type": "stream",
     "text": [
      "\n",
      "Epoch 1/30\n",
      "Validation AUC: 0.5163\n",
      "Improved Validation AUC. Model weights saved.\n",
      "\n",
      "Epoch 2/30\n",
      "Validation AUC: 0.4960\n",
      "No improvement in Validation AUC. Patience counter: 1\n",
      "\n",
      "Epoch 3/30\n",
      "Validation AUC: 0.5375\n",
      "Improved Validation AUC. Model weights saved.\n",
      "\n",
      "Epoch 4/30\n",
      "Validation AUC: 0.5041\n",
      "No improvement in Validation AUC. Patience counter: 1\n",
      "\n",
      "Epoch 5/30\n",
      "Validation AUC: 0.5097\n",
      "No improvement in Validation AUC. Patience counter: 2\n",
      "\n",
      "Epoch 6/30\n",
      "Validation AUC: 0.4824\n",
      "No improvement in Validation AUC. Patience counter: 3\n",
      "\n",
      "Epoch 7/30\n",
      "Validation AUC: 0.4512\n",
      "No improvement in Validation AUC. Patience counter: 4\n",
      "\n",
      "Epoch 8/30\n",
      "Validation AUC: 0.4553\n",
      "No improvement in Validation AUC. Patience counter: 5\n",
      "\n",
      "Epoch 9/30\n",
      "Validation AUC: 0.4584\n",
      "No improvement in Validation AUC. Patience counter: 6\n",
      "\n",
      "Epoch 10/30\n",
      "Validation AUC: 0.4727\n",
      "No improvement in Validation AUC. Patience counter: 7\n",
      "\n",
      "Epoch 11/30\n",
      "Validation AUC: 0.4555\n",
      "No improvement in Validation AUC. Patience counter: 8\n",
      "\n",
      "Epoch 12/30\n",
      "Validation AUC: 0.4952\n",
      "No improvement in Validation AUC. Patience counter: 9\n",
      "\n",
      "Epoch 13/30\n",
      "Validation AUC: 0.4441\n",
      "No improvement in Validation AUC. Patience counter: 10\n",
      "\n",
      "Epoch 14/30\n",
      "Validation AUC: 0.4884\n",
      "No improvement in Validation AUC. Patience counter: 11\n",
      "\n",
      "Epoch 15/30\n",
      "Validation AUC: 0.4800\n",
      "No improvement in Validation AUC. Patience counter: 12\n",
      "\n",
      "Epoch 16/30\n",
      "Validation AUC: 0.4805\n",
      "No improvement in Validation AUC. Patience counter: 13\n",
      "\n",
      "Epoch 17/30\n",
      "Validation AUC: 0.5096\n",
      "No improvement in Validation AUC. Patience counter: 14\n",
      "\n",
      "Epoch 18/30\n",
      "Validation AUC: 0.5014\n",
      "No improvement in Validation AUC. Patience counter: 15\n",
      "Early stopping triggered.\n",
      "\n",
      "Test AUC: 0.4809\n"
     ]
    }
   ],
   "source": [
    "from transformers import BertTokenizer, TFBertForSequenceClassification\n",
    "import tensorflow as tf\n",
    "import numpy as np\n",
    "from sklearn.metrics import roc_auc_score\n",
    "from sklearn.model_selection import train_test_split\n",
    "\n",
    "# Tokenizer and Model Initialization\n",
    "tokenizer = BertTokenizer.from_pretrained('bert-base-uncased')\n",
    "model = TFBertForSequenceClassification.from_pretrained('bert-base-uncased', num_labels=2)\n",
    "\n",
    "# Parameters\n",
    "batch_size = 8\n",
    "learning_rate = 5e-5\n",
    "\n",
    "# Encoding Texts Function\n",
    "def tokenize_function(texts, labels):\n",
    "    encodings = tokenizer(\n",
    "        texts,\n",
    "        padding='max_length',\n",
    "        truncation=True,\n",
    "        max_length=128,\n",
    "        return_tensors='tf'\n",
    "    )\n",
    "    return encodings, tf.convert_to_tensor(labels)\n",
    "\n",
    "# Convert datasets to lists\n",
    "X_train_list = X_train.tolist()\n",
    "y_train_list = y_train.tolist()\n",
    "X_test_list = X_test.tolist()\n",
    "y_test_list = y_test.tolist()\n",
    "\n",
    "# Split training data into training and validation sets\n",
    "X_train_split, X_val_split, y_train_split, y_val_split = train_test_split(\n",
    "    X_train_list, y_train_list, test_size=0.1, random_state=42\n",
    ")\n",
    "\n",
    "# Tokenize and encode datasets\n",
    "train_encodings, train_labels = tokenize_function(X_train_split, y_train_split)\n",
    "val_encodings, val_labels = tokenize_function(X_val_split, y_val_split)\n",
    "test_encodings, test_labels = tokenize_function(X_test_list, y_test_list)\n",
    "\n",
    "# Prepare TensorFlow Datasets\n",
    "train_dataset = tf.data.Dataset.from_tensor_slices((\n",
    "    {'input_ids': train_encodings['input_ids'], 'attention_mask': train_encodings['attention_mask']},\n",
    "    train_labels\n",
    ")).shuffle(len(train_labels)).batch(batch_size)\n",
    "\n",
    "val_dataset = tf.data.Dataset.from_tensor_slices((\n",
    "    {'input_ids': val_encodings['input_ids'], 'attention_mask': val_encodings['attention_mask']},\n",
    "    val_labels\n",
    ")).batch(batch_size)\n",
    "\n",
    "test_dataset = tf.data.Dataset.from_tensor_slices((\n",
    "    {'input_ids': test_encodings['input_ids'], 'attention_mask': test_encodings['attention_mask']},\n",
    "    test_labels\n",
    ")).batch(batch_size)\n",
    "\n",
    "# Training Parameters\n",
    "optimizer = tf.keras.optimizers.Adam(learning_rate=learning_rate)\n",
    "loss_fn = tf.keras.losses.SparseCategoricalCrossentropy(from_logits=True)\n",
    "\n",
    "# Early Stopping Parameters\n",
    "best_val_auc = 0\n",
    "patience = patience_n\n",
    "patience_counter = 0\n",
    "\n",
    "# Training Loop with Early Stopping and Model Checkpointing\n",
    "epochs = epochs_n\n",
    "for epoch in range(epochs):\n",
    "    print(f\"\\nEpoch {epoch + 1}/{epochs}\")\n",
    "    # Training Step\n",
    "    for batch in train_dataset:\n",
    "        with tf.GradientTape() as tape:\n",
    "            inputs, labels = batch\n",
    "            labels = tf.cast(labels, dtype=tf.int32)  # Ensure labels are correct type\n",
    "            outputs = model(inputs, training=True)\n",
    "            logits = outputs.logits\n",
    "            loss = loss_fn(labels, logits)\n",
    "        gradients = tape.gradient(loss, model.trainable_variables)\n",
    "        optimizer.apply_gradients(zip(gradients, model.trainable_variables))\n",
    "        print(f\"Training Loss: {loss.numpy():.4f}\", end=\"\\r\")\n",
    "    \n",
    "    # Validation Step\n",
    "    all_val_labels = []\n",
    "    all_val_probs = []\n",
    "    for batch in val_dataset:\n",
    "        inputs, labels = batch\n",
    "        outputs = model(inputs, training=False)\n",
    "        logits = outputs.logits\n",
    "        probs = tf.nn.softmax(logits, axis=-1)[:, 1]\n",
    "        all_val_labels.extend(labels.numpy())\n",
    "        all_val_probs.extend(probs.numpy())\n",
    "    \n",
    "    val_auc = roc_auc_score(all_val_labels, all_val_probs)\n",
    "    print(f\"Validation AUC: {val_auc:.4f}\")\n",
    "    \n",
    "    # Check for improvement\n",
    "    if val_auc > best_val_auc:\n",
    "        best_val_auc = val_auc\n",
    "        patience_counter = 0\n",
    "        # Save the best model weights\n",
    "        model.save_weights('best_model_weights.keras')\n",
    "        print(\"Improved Validation AUC. Model weights saved.\")\n",
    "    else:\n",
    "        patience_counter += 1\n",
    "        print(f\"No improvement in Validation AUC. Patience counter: {patience_counter}\")\n",
    "        if patience_counter >= patience:\n",
    "            print(\"Early stopping triggered.\")\n",
    "            break\n",
    "\n",
    "# Load the best model weights\n",
    "model.load_weights('best_model_weights.keras')\n",
    "\n",
    "# Final Evaluation on Test Set\n",
    "all_test_labels = []\n",
    "all_test_probs = []\n",
    "for batch in test_dataset:\n",
    "    inputs, labels = batch\n",
    "    outputs = model(inputs, training=False)\n",
    "    logits = outputs.logits\n",
    "    probs = tf.nn.softmax(logits, axis=-1)[:, 1]\n",
    "    all_test_labels.extend(labels.numpy())\n",
    "    all_test_probs.extend(probs.numpy())\n",
    "\n",
    "auc_score = roc_auc_score(all_test_labels, all_test_probs)\n",
    "print(f\"\\nTest AUC: {auc_score:.4f}\")\n"
   ]
  },
  {
   "cell_type": "markdown",
   "id": "c2a2b580",
   "metadata": {},
   "source": [
    "## Hyperparams Tuning"
   ]
  },
  {
   "cell_type": "markdown",
   "id": "510382d3",
   "metadata": {},
   "source": [
    "Hyperparameter Tuning for Logistic Regression"
   ]
  },
  {
   "cell_type": "code",
   "execution_count": 22,
   "id": "ee0b517a",
   "metadata": {
    "execution": {
     "iopub.execute_input": "2024-12-02T11:18:18.988610Z",
     "iopub.status.busy": "2024-12-02T11:18:18.988251Z",
     "iopub.status.idle": "2024-12-02T11:18:22.466607Z",
     "shell.execute_reply": "2024-12-02T11:18:22.465766Z"
    },
    "papermill": {
     "duration": 3.733045,
     "end_time": "2024-12-02T11:18:22.468193",
     "exception": false,
     "start_time": "2024-12-02T11:18:18.735148",
     "status": "completed"
    },
    "tags": []
   },
   "outputs": [
    {
     "name": "stdout",
     "output_type": "stream",
     "text": [
      "Fitting 5 folds for each of 16 candidates, totalling 80 fits\n",
      "Best Logistic Regression AUC: 0.510836693548387\n"
     ]
    },
    {
     "data": {
      "text/plain": [
       "['logistic_regression_model_best_tuning.pkl']"
      ]
     },
     "execution_count": 22,
     "metadata": {},
     "output_type": "execute_result"
    }
   ],
   "source": [
    "# Import necessary libraries\n",
    "from sklearn.model_selection import GridSearchCV\n",
    "from sklearn.linear_model import LogisticRegression\n",
    "from sklearn.metrics import roc_auc_score\n",
    "import joblib  # For saving the model\n",
    "\n",
    "# Define the parameter grid to search\n",
    "param_grid = {\n",
    "    'C': [0.01, 0.1, 1, 10],               # Regularization strength\n",
    "    'penalty': ['l1', 'l2'],               # Regularization type\n",
    "    'solver': ['liblinear'],               # Solver that supports 'l1' penalty\n",
    "    'class_weight': [None, 'balanced']     # Handle class imbalance\n",
    "}\n",
    "\n",
    "# Initialize Logistic Regression model\n",
    "logreg = LogisticRegression()\n",
    "\n",
    "# Initialize GridSearchCV\n",
    "grid_search = GridSearchCV(\n",
    "    estimator=logreg,\n",
    "    param_grid=param_grid,\n",
    "    scoring='roc_auc',\n",
    "    cv=5,\n",
    "    n_jobs=-1,\n",
    "    verbose=2\n",
    ")\n",
    "\n",
    "# Fit the GridSearchCV to the training data\n",
    "grid_search.fit(X_train_tfidf, y_train)\n",
    "\n",
    "# Get the best model\n",
    "best_logreg = grid_search.best_estimator_\n",
    "\n",
    "# Evaluate on test data\n",
    "predictions = best_logreg.predict_proba(X_test_tfidf)[:, 1]\n",
    "auc = roc_auc_score(y_test, predictions)\n",
    "print(f'Best Logistic Regression AUC: {auc}')\n",
    "\n",
    "# Save the best model\n",
    "joblib.dump(best_logreg, 'logistic_regression_model_best_tuning.pkl')\n"
   ]
  },
  {
   "cell_type": "markdown",
   "id": "bfa651d2",
   "metadata": {},
   "source": [
    "Hyperparameter Tuning for LSTM and Bidirectional LSTM Models"
   ]
  },
  {
   "cell_type": "code",
   "execution_count": 24,
   "id": "a3362323",
   "metadata": {
    "execution": {
     "iopub.execute_input": "2024-12-02T11:18:22.899989Z",
     "iopub.status.busy": "2024-12-02T11:18:22.899068Z",
     "iopub.status.idle": "2024-12-02T11:31:34.457690Z",
     "shell.execute_reply": "2024-12-02T11:31:34.456968Z"
    },
    "papermill": {
     "duration": 791.774889,
     "end_time": "2024-12-02T11:31:34.459632",
     "exception": false,
     "start_time": "2024-12-02T11:18:22.684743",
     "status": "completed"
    },
    "tags": []
   },
   "outputs": [
    {
     "name": "stdout",
     "output_type": "stream",
     "text": [
      "Trial 10 Complete [00h 01m 33s]\n",
      "val_auc: 0.5984824895858765\n",
      "\n",
      "Best val_auc So Far: 0.6033322811126709\n",
      "Total elapsed time: 00h 11m 27s\n",
      "Best Hyperparameters: {'embedding_dim': 256, 'num_layers': 3, 'units_0': 64, 'dropout_0': 0.4, 'bidirectional_0': True, 'learning_rate': 0.0003671571086355117, 'units_1': 192, 'dropout_1': 0.4, 'bidirectional_1': False, 'units_2': 256, 'dropout_2': 0.4, 'bidirectional_2': False}\n",
      "Epoch 1/30\n",
      "46/46 - 9s - 192ms/step - auc: 0.4980 - loss: 0.6922 - val_auc: 0.4861 - val_loss: 0.6868\n",
      "Epoch 2/30\n",
      "46/46 - 5s - 108ms/step - auc: 0.7460 - loss: 0.6395 - val_auc: 0.5366 - val_loss: 0.7194\n",
      "Epoch 3/30\n",
      "46/46 - 5s - 108ms/step - auc: 0.9314 - loss: 0.3356 - val_auc: 0.5450 - val_loss: 0.8331\n",
      "Epoch 4/30\n",
      "46/46 - 5s - 108ms/step - auc: 0.9976 - loss: 0.0557 - val_auc: 0.5704 - val_loss: 1.4745\n",
      "Epoch 5/30\n",
      "46/46 - 5s - 108ms/step - auc: 0.9999 - loss: 0.0181 - val_auc: 0.6119 - val_loss: 1.9921\n",
      "Epoch 6/30\n",
      "46/46 - 5s - 108ms/step - auc: 1.0000 - loss: 0.0040 - val_auc: 0.5935 - val_loss: 2.1374\n",
      "Epoch 7/30\n",
      "46/46 - 5s - 108ms/step - auc: 1.0000 - loss: 4.6676e-04 - val_auc: 0.5896 - val_loss: 2.3733\n",
      "Epoch 8/30\n",
      "46/46 - 5s - 108ms/step - auc: 1.0000 - loss: 2.3735e-04 - val_auc: 0.5875 - val_loss: 2.4964\n",
      "Epoch 9/30\n",
      "46/46 - 5s - 108ms/step - auc: 1.0000 - loss: 1.6650e-04 - val_auc: 0.5922 - val_loss: 2.5959\n",
      "Epoch 10/30\n",
      "46/46 - 5s - 108ms/step - auc: 1.0000 - loss: 1.2693e-04 - val_auc: 0.5971 - val_loss: 2.6818\n",
      "Epoch 11/30\n",
      "46/46 - 5s - 108ms/step - auc: 1.0000 - loss: 9.8096e-05 - val_auc: 0.5989 - val_loss: 2.7545\n",
      "Epoch 12/30\n",
      "46/46 - 5s - 108ms/step - auc: 1.0000 - loss: 8.2623e-05 - val_auc: 0.5966 - val_loss: 2.8224\n",
      "Epoch 13/30\n",
      "46/46 - 5s - 108ms/step - auc: 1.0000 - loss: 6.8059e-05 - val_auc: 0.5978 - val_loss: 2.8836\n",
      "Epoch 14/30\n",
      "46/46 - 5s - 108ms/step - auc: 1.0000 - loss: 5.8700e-05 - val_auc: 0.5999 - val_loss: 2.9421\n",
      "Epoch 15/30\n",
      "46/46 - 5s - 108ms/step - auc: 1.0000 - loss: 5.0536e-05 - val_auc: 0.5937 - val_loss: 2.9945\n",
      "Epoch 16/30\n",
      "46/46 - 5s - 108ms/step - auc: 1.0000 - loss: 4.5204e-05 - val_auc: 0.5932 - val_loss: 3.0470\n",
      "Epoch 17/30\n",
      "46/46 - 5s - 108ms/step - auc: 1.0000 - loss: 3.7180e-05 - val_auc: 0.5951 - val_loss: 3.0938\n",
      "Epoch 18/30\n",
      "46/46 - 5s - 108ms/step - auc: 1.0000 - loss: 3.4650e-05 - val_auc: 0.5952 - val_loss: 3.1377\n",
      "Epoch 19/30\n",
      "46/46 - 5s - 108ms/step - auc: 1.0000 - loss: 3.0801e-05 - val_auc: 0.5948 - val_loss: 3.1791\n",
      "Epoch 20/30\n",
      "46/46 - 5s - 108ms/step - auc: 1.0000 - loss: 2.6489e-05 - val_auc: 0.5905 - val_loss: 3.2179\n",
      "\u001b[1m12/12\u001b[0m \u001b[32m━━━━━━━━━━━━━━━━━━━━\u001b[0m\u001b[37m\u001b[0m \u001b[1m1s\u001b[0m 48ms/step - auc: 0.4886 - loss: 2.5614\n",
      "Best LSTM Model Test AUC: 0.5123768448829651\n"
     ]
    }
   ],
   "source": [
    "\n",
    "# Import necessary libraries\n",
    "import keras_tuner as kt\n",
    "from tensorflow.keras.models import Sequential\n",
    "from tensorflow.keras.layers import Embedding, LSTM, Dense, Dropout, Bidirectional\n",
    "from tensorflow.keras.optimizers import Adam\n",
    "from tensorflow.keras.callbacks import EarlyStopping\n",
    "from tensorflow.keras.metrics import AUC\n",
    "\n",
    "# Define the model-building function for Keras Tuner\n",
    "def build_lstm_model(hp):\n",
    "    model = Sequential()\n",
    "    # Embedding layer\n",
    "    embedding_dim = hp.Choice('embedding_dim', values=[64, 128, 256])\n",
    "    model.add(Embedding(input_dim=5000, output_dim=embedding_dim, input_length=max_sequence_length))\n",
    "    # LSTM layers\n",
    "    for i in range(hp.Int('num_layers', 1, 3)):\n",
    "        units = hp.Int('units_' + str(i), min_value=64, max_value=256, step=64)\n",
    "        dropout_rate = hp.Float('dropout_' + str(i), min_value=0.2, max_value=0.5, step=0.1)\n",
    "        bidirectional = hp.Boolean('bidirectional_' + str(i))\n",
    "        if bidirectional:\n",
    "            model.add(Bidirectional(LSTM(units, return_sequences=True if i < hp.Int('num_layers', 1, 3) - 1 else False)))\n",
    "        else:\n",
    "            model.add(LSTM(units, return_sequences=True if i < hp.Int('num_layers', 1, 3) - 1 else False))\n",
    "        model.add(Dropout(dropout_rate))\n",
    "    # Output layer\n",
    "    model.add(Dense(1, activation='sigmoid'))\n",
    "    # Compile the model\n",
    "    learning_rate = hp.Float('learning_rate', 1e-4, 1e-2, sampling='log')\n",
    "    optimizer = Adam(learning_rate=learning_rate)\n",
    "    model.compile(optimizer=optimizer, loss='binary_crossentropy', metrics=[AUC(name='auc')])\n",
    "    return model\n",
    "\n",
    "# Initialize the tuner\n",
    "tuner = kt.RandomSearch(\n",
    "    build_lstm_model,\n",
    "    objective='val_auc',\n",
    "    max_trials=10,\n",
    "    executions_per_trial=1,\n",
    "    directory='lstm_tuner',\n",
    "    project_name='lstm_stock_prediction'\n",
    ")\n",
    "\n",
    "# Early stopping callback\n",
    "early_stopping = EarlyStopping(monitor='val_auc', patience=patience_n, mode='max', restore_best_weights=True)\n",
    "\n",
    "# Perform the hyperparameter search\n",
    "tuner.search(\n",
    "    X_train_pad,\n",
    "    y_train,\n",
    "    epochs=epochs_n,\n",
    "    validation_split=0.1,\n",
    "    callbacks=[early_stopping],\n",
    "    verbose=2\n",
    ")\n",
    "\n",
    "# Get the best hyperparameters\n",
    "best_hp = tuner.get_best_hyperparameters()[0]\n",
    "print(f\"Best Hyperparameters: {best_hp.values}\")\n",
    "\n",
    "# Build the best model\n",
    "best_model = tuner.hypermodel.build(best_hp)\n",
    "\n",
    "# Train the best model with early stopping\n",
    "history = best_model.fit(\n",
    "    X_train_pad,\n",
    "    y_train,\n",
    "    epochs=epochs_n,\n",
    "    validation_split=0.1,\n",
    "    callbacks=[early_stopping],\n",
    "    verbose=2\n",
    ")\n",
    "\n",
    "# Evaluate on test data\n",
    "test_loss, test_auc = best_model.evaluate(X_test_pad, y_test)\n",
    "print(f'Best LSTM Model Test AUC: {test_auc}')\n",
    "\n",
    "# Save the best model\n",
    "best_model.save('lstm_model_best_tuning.keras')\n"
   ]
  },
  {
   "cell_type": "markdown",
   "id": "62344ace",
   "metadata": {},
   "source": [
    "BERT Model Hyperparameter Tuning\n"
   ]
  },
  {
   "cell_type": "code",
   "execution_count": null,
   "id": "99bf5947",
   "metadata": {},
   "outputs": [
    {
     "name": "stdout",
     "output_type": "stream",
     "text": [
      "\n",
      "Training with learning rate=3e-05, batch size=16, epochs=3\n"
     ]
    },
    {
     "name": "stderr",
     "output_type": "stream",
     "text": [
      "All PyTorch model weights were used when initializing TFBertForSequenceClassification.\n",
      "\n",
      "Some weights or buffers of the TF 2.0 model TFBertForSequenceClassification were not initialized from the PyTorch model and are newly initialized: ['classifier.weight', 'classifier.bias']\n",
      "You should probably TRAIN this model on a down-stream task to be able to use it for predictions and inference.\n"
     ]
    },
    {
     "name": "stdout",
     "output_type": "stream",
     "text": [
      "\n",
      "Epoch 1/3\n",
      "Validation AUC: 0.5139\n",
      "\n",
      "Epoch 2/3\n",
      "Validation AUC: 0.4237\n",
      "\n",
      "Epoch 3/3\n",
      "Validation AUC: 0.4702\n",
      "Final Validation AUC: 0.5139\n",
      "\n",
      "Training with learning rate=3e-05, batch size=16, epochs=5\n"
     ]
    },
    {
     "name": "stderr",
     "output_type": "stream",
     "text": [
      "All PyTorch model weights were used when initializing TFBertForSequenceClassification.\n",
      "\n",
      "Some weights or buffers of the TF 2.0 model TFBertForSequenceClassification were not initialized from the PyTorch model and are newly initialized: ['classifier.weight', 'classifier.bias']\n",
      "You should probably TRAIN this model on a down-stream task to be able to use it for predictions and inference.\n"
     ]
    },
    {
     "name": "stdout",
     "output_type": "stream",
     "text": [
      "\n",
      "Epoch 1/5\n",
      "Validation AUC: 0.4968\n",
      "\n",
      "Epoch 2/5\n",
      "Validation AUC: 0.4985\n",
      "\n",
      "Epoch 3/5\n",
      "Validation AUC: 0.5020\n",
      "\n",
      "Epoch 4/5\n",
      "Validation AUC: 0.5022\n",
      "\n",
      "Epoch 5/5\n",
      "Validation AUC: 0.5123\n",
      "Final Validation AUC: 0.5123\n",
      "\n",
      "Training with learning rate=3e-05, batch size=16, epochs=10\n"
     ]
    },
    {
     "name": "stderr",
     "output_type": "stream",
     "text": [
      "All PyTorch model weights were used when initializing TFBertForSequenceClassification.\n",
      "\n",
      "Some weights or buffers of the TF 2.0 model TFBertForSequenceClassification were not initialized from the PyTorch model and are newly initialized: ['classifier.weight', 'classifier.bias']\n",
      "You should probably TRAIN this model on a down-stream task to be able to use it for predictions and inference.\n"
     ]
    },
    {
     "name": "stdout",
     "output_type": "stream",
     "text": [
      "\n",
      "Epoch 1/10\n",
      "Validation AUC: 0.5601\n",
      "\n",
      "Epoch 2/10\n",
      "Validation AUC: 0.4471\n",
      "\n",
      "Epoch 3/10\n",
      "Validation AUC: 0.5500\n",
      "\n",
      "Epoch 4/10\n",
      "Validation AUC: 0.5267\n",
      "Early stopping triggered.\n",
      "Final Validation AUC: 0.5601\n",
      "\n",
      "Training with learning rate=3e-05, batch size=32, epochs=3\n"
     ]
    },
    {
     "name": "stderr",
     "output_type": "stream",
     "text": [
      "All PyTorch model weights were used when initializing TFBertForSequenceClassification.\n",
      "\n",
      "Some weights or buffers of the TF 2.0 model TFBertForSequenceClassification were not initialized from the PyTorch model and are newly initialized: ['classifier.weight', 'classifier.bias']\n",
      "You should probably TRAIN this model on a down-stream task to be able to use it for predictions and inference.\n"
     ]
    },
    {
     "name": "stdout",
     "output_type": "stream",
     "text": [
      "\n",
      "Epoch 1/3\n",
      "Validation AUC: 0.4697\n",
      "\n",
      "Epoch 2/3\n",
      "Validation AUC: 0.4586\n",
      "\n",
      "Epoch 3/3\n",
      "Validation AUC: 0.5124\n",
      "Final Validation AUC: 0.5124\n",
      "\n",
      "Training with learning rate=3e-05, batch size=32, epochs=5\n"
     ]
    },
    {
     "name": "stderr",
     "output_type": "stream",
     "text": [
      "All PyTorch model weights were used when initializing TFBertForSequenceClassification.\n",
      "\n",
      "Some weights or buffers of the TF 2.0 model TFBertForSequenceClassification were not initialized from the PyTorch model and are newly initialized: ['classifier.weight', 'classifier.bias']\n",
      "You should probably TRAIN this model on a down-stream task to be able to use it for predictions and inference.\n"
     ]
    },
    {
     "name": "stdout",
     "output_type": "stream",
     "text": [
      "\n",
      "Epoch 1/5\n",
      "Validation AUC: 0.4666\n",
      "\n",
      "Epoch 2/5\n",
      "Validation AUC: 0.5256\n",
      "\n",
      "Epoch 3/5\n",
      "Validation AUC: 0.4391\n",
      "\n",
      "Epoch 4/5\n",
      "Validation AUC: 0.4765\n",
      "\n",
      "Epoch 5/5\n",
      "Validation AUC: 0.4767\n",
      "Early stopping triggered.\n",
      "Final Validation AUC: 0.5256\n",
      "\n",
      "Training with learning rate=3e-05, batch size=32, epochs=10\n"
     ]
    },
    {
     "name": "stderr",
     "output_type": "stream",
     "text": [
      "All PyTorch model weights were used when initializing TFBertForSequenceClassification.\n",
      "\n",
      "Some weights or buffers of the TF 2.0 model TFBertForSequenceClassification were not initialized from the PyTorch model and are newly initialized: ['classifier.weight', 'classifier.bias']\n",
      "You should probably TRAIN this model on a down-stream task to be able to use it for predictions and inference.\n"
     ]
    },
    {
     "name": "stdout",
     "output_type": "stream",
     "text": [
      "\n",
      "Epoch 1/10\n",
      "Validation AUC: 0.4848\n",
      "\n",
      "Epoch 2/10\n",
      "Validation AUC: 0.5115\n",
      "\n",
      "Epoch 3/10\n",
      "Validation AUC: 0.4859\n",
      "\n",
      "Epoch 4/10\n",
      "Validation AUC: 0.4550\n",
      "\n",
      "Epoch 5/10\n",
      "Validation AUC: 0.4638\n",
      "Early stopping triggered.\n",
      "Final Validation AUC: 0.5115\n",
      "\n",
      "Training with learning rate=5e-05, batch size=16, epochs=3\n"
     ]
    },
    {
     "name": "stderr",
     "output_type": "stream",
     "text": [
      "All PyTorch model weights were used when initializing TFBertForSequenceClassification.\n",
      "\n",
      "Some weights or buffers of the TF 2.0 model TFBertForSequenceClassification were not initialized from the PyTorch model and are newly initialized: ['classifier.weight', 'classifier.bias']\n",
      "You should probably TRAIN this model on a down-stream task to be able to use it for predictions and inference.\n"
     ]
    },
    {
     "name": "stdout",
     "output_type": "stream",
     "text": [
      "\n",
      "Epoch 1/3\n",
      "Validation AUC: 0.5839\n",
      "\n",
      "Epoch 2/3\n",
      "Validation AUC: 0.4837\n",
      "\n",
      "Epoch 3/3\n",
      "Validation AUC: 0.5384\n",
      "Final Validation AUC: 0.5839\n",
      "\n",
      "Training with learning rate=5e-05, batch size=16, epochs=5\n"
     ]
    },
    {
     "name": "stderr",
     "output_type": "stream",
     "text": [
      "All PyTorch model weights were used when initializing TFBertForSequenceClassification.\n",
      "\n",
      "Some weights or buffers of the TF 2.0 model TFBertForSequenceClassification were not initialized from the PyTorch model and are newly initialized: ['classifier.weight', 'classifier.bias']\n",
      "You should probably TRAIN this model on a down-stream task to be able to use it for predictions and inference.\n"
     ]
    },
    {
     "name": "stdout",
     "output_type": "stream",
     "text": [
      "\n",
      "Epoch 1/5\n",
      "Validation AUC: 0.5334\n",
      "\n",
      "Epoch 2/5\n",
      "Validation AUC: 0.4844\n",
      "\n",
      "Epoch 3/5\n",
      "Validation AUC: 0.4511\n",
      "\n",
      "Epoch 4/5\n",
      "Validation AUC: 0.5005\n",
      "Early stopping triggered.\n",
      "Final Validation AUC: 0.5334\n",
      "\n",
      "Training with learning rate=5e-05, batch size=16, epochs=10\n"
     ]
    },
    {
     "name": "stderr",
     "output_type": "stream",
     "text": [
      "All PyTorch model weights were used when initializing TFBertForSequenceClassification.\n",
      "\n",
      "Some weights or buffers of the TF 2.0 model TFBertForSequenceClassification were not initialized from the PyTorch model and are newly initialized: ['classifier.weight', 'classifier.bias']\n",
      "You should probably TRAIN this model on a down-stream task to be able to use it for predictions and inference.\n"
     ]
    },
    {
     "name": "stdout",
     "output_type": "stream",
     "text": [
      "\n",
      "Epoch 1/10\n",
      "Validation AUC: 0.5125\n",
      "\n",
      "Epoch 2/10\n",
      "Validation AUC: 0.4906\n",
      "\n",
      "Epoch 3/10\n",
      "Validation AUC: 0.5468\n",
      "\n",
      "Epoch 4/10\n",
      "Validation AUC: 0.4484\n",
      "\n",
      "Epoch 5/10\n",
      "Validation AUC: 0.5171\n",
      "\n",
      "Epoch 6/10\n",
      "Validation AUC: 0.5333\n",
      "Early stopping triggered.\n",
      "Final Validation AUC: 0.5468\n",
      "\n",
      "Training with learning rate=5e-05, batch size=32, epochs=3\n"
     ]
    },
    {
     "name": "stderr",
     "output_type": "stream",
     "text": [
      "All PyTorch model weights were used when initializing TFBertForSequenceClassification.\n",
      "\n",
      "Some weights or buffers of the TF 2.0 model TFBertForSequenceClassification were not initialized from the PyTorch model and are newly initialized: ['classifier.weight', 'classifier.bias']\n",
      "You should probably TRAIN this model on a down-stream task to be able to use it for predictions and inference.\n"
     ]
    },
    {
     "name": "stdout",
     "output_type": "stream",
     "text": [
      "\n",
      "Epoch 1/3\n",
      "Validation AUC: 0.5230\n",
      "\n",
      "Epoch 2/3\n",
      "Validation AUC: 0.5217\n",
      "\n",
      "Epoch 3/3\n",
      "Validation AUC: 0.5331\n",
      "Final Validation AUC: 0.5331\n",
      "\n",
      "Training with learning rate=5e-05, batch size=32, epochs=5\n"
     ]
    },
    {
     "name": "stderr",
     "output_type": "stream",
     "text": [
      "All PyTorch model weights were used when initializing TFBertForSequenceClassification.\n",
      "\n",
      "Some weights or buffers of the TF 2.0 model TFBertForSequenceClassification were not initialized from the PyTorch model and are newly initialized: ['classifier.weight', 'classifier.bias']\n",
      "You should probably TRAIN this model on a down-stream task to be able to use it for predictions and inference.\n"
     ]
    },
    {
     "name": "stdout",
     "output_type": "stream",
     "text": [
      "\n",
      "Epoch 1/5\n",
      "Validation AUC: 0.4561\n",
      "\n",
      "Epoch 2/5\n",
      "Validation AUC: 0.5479\n",
      "\n",
      "Epoch 3/5\n",
      "Validation AUC: 0.5255\n",
      "\n",
      "Epoch 4/5\n",
      "Validation AUC: 0.5316\n",
      "\n",
      "Epoch 5/5\n",
      "Validation AUC: 0.5610\n",
      "Final Validation AUC: 0.5610\n",
      "\n",
      "Training with learning rate=5e-05, batch size=32, epochs=10\n"
     ]
    },
    {
     "name": "stderr",
     "output_type": "stream",
     "text": [
      "All PyTorch model weights were used when initializing TFBertForSequenceClassification.\n",
      "\n",
      "Some weights or buffers of the TF 2.0 model TFBertForSequenceClassification were not initialized from the PyTorch model and are newly initialized: ['classifier.weight', 'classifier.bias']\n",
      "You should probably TRAIN this model on a down-stream task to be able to use it for predictions and inference.\n"
     ]
    },
    {
     "name": "stdout",
     "output_type": "stream",
     "text": [
      "\n",
      "Epoch 1/10\n",
      "Validation AUC: 0.5278\n",
      "\n",
      "Epoch 2/10\n",
      "Validation AUC: 0.5595\n",
      "\n",
      "Epoch 3/10\n",
      "Validation AUC: 0.5713\n",
      "\n",
      "Epoch 4/10\n",
      "Validation AUC: 0.5012\n",
      "\n",
      "Epoch 5/10\n",
      "Validation AUC: 0.5625\n",
      "\n",
      "Epoch 6/10\n",
      "Validation AUC: 0.5395\n",
      "Early stopping triggered.\n",
      "Final Validation AUC: 0.5713\n"
     ]
    },
    {
     "name": "stderr",
     "output_type": "stream",
     "text": [
      "All PyTorch model weights were used when initializing TFBertForSequenceClassification.\n",
      "\n",
      "Some weights or buffers of the TF 2.0 model TFBertForSequenceClassification were not initialized from the PyTorch model and are newly initialized: ['classifier.weight', 'classifier.bias']\n",
      "You should probably TRAIN this model on a down-stream task to be able to use it for predictions and inference.\n"
     ]
    },
    {
     "name": "stdout",
     "output_type": "stream",
     "text": [
      "\n",
      "Best BERT Model Test AUC: 0.5212\n",
      "Best Hyperparameters: {'learning_rate': 5e-05, 'batch_size': 16, 'epochs': 3}\n"
     ]
    },
    {
     "data": {
      "text/plain": [
       "('bert_model_best_tuning/tokenizer_config.json',\n",
       " 'bert_model_best_tuning/special_tokens_map.json',\n",
       " 'bert_model_best_tuning/vocab.txt',\n",
       " 'bert_model_best_tuning/added_tokens.json')"
      ]
     },
     "metadata": {},
     "output_type": "display_data"
    }
   ],
   "source": [
    "from transformers import BertTokenizer, TFBertForSequenceClassification\n",
    "import tensorflow as tf\n",
    "import numpy as np\n",
    "from sklearn.metrics import roc_auc_score\n",
    "import os\n",
    "\n",
    "# Define hyperparameter grid\n",
    "learning_rates = [3e-5, 5e-5]\n",
    "batch_sizes = [16, 32]\n",
    "epochs_list = [3, 5, 10]\n",
    "patience_n = 3\n",
    "\n",
    "# Initialize variables to store the best model\n",
    "best_auc_bert = 0\n",
    "best_model = None\n",
    "best_params_bert = None\n",
    "\n",
    "# Convert datasets to lists\n",
    "X_train_list = X_train.tolist()\n",
    "y_train_list = y_train.tolist()\n",
    "\n",
    "# Split training data into training and validation sets\n",
    "from sklearn.model_selection import train_test_split\n",
    "X_train_list, X_val_list, y_train_list, y_val_list = train_test_split(\n",
    "    X_train_list, y_train_list, test_size=0.1, random_state=42\n",
    ")\n",
    "\n",
    "# Initialize tokenizer\n",
    "tokenizer = BertTokenizer.from_pretrained('bert-base-uncased')\n",
    "\n",
    "# Tokenize and encode datasets\n",
    "def tokenize_function(texts, labels):\n",
    "    encodings = tokenizer(\n",
    "        texts,\n",
    "        padding='max_length',\n",
    "        truncation=True,\n",
    "        max_length=128,\n",
    "        return_tensors='tf'\n",
    "    )\n",
    "    return encodings, tf.convert_to_tensor(labels)\n",
    "\n",
    "train_encodings, train_labels = tokenize_function(X_train_list, y_train_list)\n",
    "val_encodings, val_labels = tokenize_function(X_val_list, y_val_list)\n",
    "test_encodings, test_labels = tokenize_function(X_test.tolist(), y_test.tolist())\n",
    "\n",
    "# Iterate over hyperparameters\n",
    "for lr in learning_rates:\n",
    "    for batch_size in batch_sizes:\n",
    "        for epochs in epochs_list:\n",
    "            print(f'\\nTraining with learning rate={lr}, batch size={batch_size}, epochs={epochs}')\n",
    "            # Initialize model\n",
    "            model = TFBertForSequenceClassification.from_pretrained('bert-base-uncased', num_labels=2)\n",
    "            # Prepare datasets\n",
    "            train_dataset = tf.data.Dataset.from_tensor_slices((\n",
    "                {'input_ids': train_encodings['input_ids'], 'attention_mask': train_encodings['attention_mask']},\n",
    "                train_labels\n",
    "            )).shuffle(len(train_labels)).batch(batch_size)\n",
    "            val_dataset = tf.data.Dataset.from_tensor_slices((\n",
    "                {'input_ids': val_encodings['input_ids'], 'attention_mask': val_encodings['attention_mask']},\n",
    "                val_labels\n",
    "            )).batch(batch_size)\n",
    "            # Training parameters\n",
    "            optimizer = tf.keras.optimizers.Adam(learning_rate=lr)\n",
    "            loss_fn = tf.keras.losses.SparseCategoricalCrossentropy(from_logits=True)\n",
    "            # Early stopping parameters\n",
    "            best_val_auc = 0\n",
    "            patience = patience_n\n",
    "            patience_counter = 0\n",
    "            # Training loop\n",
    "            for epoch in range(epochs):\n",
    "                print(f'\\nEpoch {epoch + 1}/{epochs}')\n",
    "                # Training\n",
    "                for batch in train_dataset:\n",
    "                    with tf.GradientTape() as tape:\n",
    "                        inputs, labels = batch\n",
    "                        labels = tf.cast(labels, dtype=tf.int32)\n",
    "                        outputs = model(inputs, training=True)\n",
    "                        logits = outputs.logits\n",
    "                        loss = loss_fn(labels, logits)\n",
    "                    gradients = tape.gradient(loss, model.trainable_variables)\n",
    "                    optimizer.apply_gradients(zip(gradients, model.trainable_variables))\n",
    "                    print(f'Training Loss: {loss.numpy():.4f}', end='\\r')\n",
    "                # Validation\n",
    "                all_val_labels = []\n",
    "                all_val_probs = []\n",
    "                for batch in val_dataset:\n",
    "                    inputs, labels = batch\n",
    "                    outputs = model(inputs, training=False)\n",
    "                    logits = outputs.logits\n",
    "                    probs = tf.nn.softmax(logits, axis=-1)[:, 1]\n",
    "                    all_val_labels.extend(labels.numpy())\n",
    "                    all_val_probs.extend(probs.numpy())\n",
    "                val_auc = roc_auc_score(all_val_labels, all_val_probs)\n",
    "                print(f'Validation AUC: {val_auc:.4f}')\n",
    "                # Check for improvement\n",
    "                if val_auc > best_val_auc:\n",
    "                    best_val_auc = val_auc\n",
    "                    patience_counter = 0\n",
    "                    # Save the model weights\n",
    "                    model.save_weights('best_model_weights.keras')\n",
    "                else:\n",
    "                    patience_counter += 1\n",
    "                    if patience_counter >= patience:\n",
    "                        print('Early stopping triggered.')\n",
    "                        break\n",
    "            # Load best weights\n",
    "            model.load_weights('best_model_weights.keras')\n",
    "            # Evaluate on validation set\n",
    "            all_val_labels = []\n",
    "            all_val_probs = []\n",
    "            for batch in val_dataset:\n",
    "                inputs, labels = batch\n",
    "                outputs = model(inputs, training=False)\n",
    "                logits = outputs.logits\n",
    "                probs = tf.nn.softmax(logits, axis=-1)[:, 1]\n",
    "                all_val_labels.extend(labels.numpy())\n",
    "                all_val_probs.extend(probs.numpy())\n",
    "            val_auc = roc_auc_score(all_val_labels, all_val_probs)\n",
    "            print(f'Final Validation AUC: {val_auc:.4f}')\n",
    "            # Update best model\n",
    "            if val_auc > best_auc_bert:\n",
    "                best_auc_bert = val_auc\n",
    "                best_model = model\n",
    "                best_params_bert = {'learning_rate': lr, 'batch_size': batch_size, 'epochs': epochs}\n",
    "                # Save the best model weights\n",
    "                model.save_weights('best_bert_model_weights_tuning.keras')\n",
    "\n",
    "# Load the best model\n",
    "model = TFBertForSequenceClassification.from_pretrained('bert-base-uncased', num_labels=2)\n",
    "model.load_weights('best_bert_model_weights_tuning.keras')\n",
    "\n",
    "# Prepare test dataset\n",
    "test_dataset = tf.data.Dataset.from_tensor_slices((\n",
    "    {'input_ids': test_encodings['input_ids'], 'attention_mask': test_encodings['attention_mask']},\n",
    "    test_labels\n",
    ")).batch(best_params_bert['batch_size'])\n",
    "\n",
    "# Evaluate on test set\n",
    "all_test_labels = []\n",
    "all_test_probs = []\n",
    "for batch in test_dataset:\n",
    "    inputs, labels = batch\n",
    "    outputs = model(inputs, training=False)\n",
    "    logits = outputs.logits\n",
    "    probs = tf.nn.softmax(logits, axis=-1)[:, 1]\n",
    "    all_test_labels.extend(labels.numpy())\n",
    "    all_test_probs.extend(probs.numpy())\n",
    "test_auc_bert = roc_auc_score(all_test_labels, all_test_probs)\n",
    "print(f'\\nBest BERT Model Test AUC: {test_auc_bert:.4f}')\n",
    "print(f'Best Hyperparameters: {best_params_bert}')\n",
    "\n",
    "# Save the best model\n",
    "model.save_pretrained('bert_model_best_tuning')\n",
    "tokenizer.save_pretrained('bert_model_best_tuning')\n"
   ]
  },
  {
   "cell_type": "markdown",
   "id": "a3434dd4",
   "metadata": {},
   "source": [
    "### Best Results Collection"
   ]
  },
  {
   "cell_type": "code",
   "execution_count": 23,
   "id": "cc1f3f82",
   "metadata": {},
   "outputs": [
    {
     "name": "stdout",
     "output_type": "stream",
     "text": [
      "Best Hyperparameters for Logistic Regression:\n",
      "C: 10\n",
      "class_weight: balanced\n",
      "penalty: l1\n",
      "solver: liblinear\n",
      "\n",
      "Cross-Validation AUC Scores:\n",
      "Mean AUC: 0.5000 (+/- 0.0000) for parameters: {'C': 0.01, 'class_weight': None, 'penalty': 'l1', 'solver': 'liblinear'}\n",
      "Mean AUC: 0.5101 (+/- 0.0390) for parameters: {'C': 0.01, 'class_weight': None, 'penalty': 'l2', 'solver': 'liblinear'}\n",
      "Mean AUC: 0.5000 (+/- 0.0000) for parameters: {'C': 0.01, 'class_weight': 'balanced', 'penalty': 'l1', 'solver': 'liblinear'}\n",
      "Mean AUC: 0.5023 (+/- 0.0322) for parameters: {'C': 0.01, 'class_weight': 'balanced', 'penalty': 'l2', 'solver': 'liblinear'}\n",
      "Mean AUC: 0.5000 (+/- 0.0000) for parameters: {'C': 0.1, 'class_weight': None, 'penalty': 'l1', 'solver': 'liblinear'}\n",
      "Mean AUC: 0.5035 (+/- 0.0329) for parameters: {'C': 0.1, 'class_weight': None, 'penalty': 'l2', 'solver': 'liblinear'}\n",
      "Mean AUC: 0.5000 (+/- 0.0000) for parameters: {'C': 0.1, 'class_weight': 'balanced', 'penalty': 'l1', 'solver': 'liblinear'}\n",
      "Mean AUC: 0.5026 (+/- 0.0319) for parameters: {'C': 0.1, 'class_weight': 'balanced', 'penalty': 'l2', 'solver': 'liblinear'}\n",
      "Mean AUC: 0.4922 (+/- 0.0166) for parameters: {'C': 1, 'class_weight': None, 'penalty': 'l1', 'solver': 'liblinear'}\n",
      "Mean AUC: 0.5055 (+/- 0.0312) for parameters: {'C': 1, 'class_weight': None, 'penalty': 'l2', 'solver': 'liblinear'}\n",
      "Mean AUC: 0.4924 (+/- 0.0135) for parameters: {'C': 1, 'class_weight': 'balanced', 'penalty': 'l1', 'solver': 'liblinear'}\n",
      "Mean AUC: 0.5057 (+/- 0.0312) for parameters: {'C': 1, 'class_weight': 'balanced', 'penalty': 'l2', 'solver': 'liblinear'}\n",
      "Mean AUC: 0.5131 (+/- 0.0294) for parameters: {'C': 10, 'class_weight': None, 'penalty': 'l1', 'solver': 'liblinear'}\n",
      "Mean AUC: 0.5050 (+/- 0.0314) for parameters: {'C': 10, 'class_weight': None, 'penalty': 'l2', 'solver': 'liblinear'}\n",
      "Mean AUC: 0.5131 (+/- 0.0294) for parameters: {'C': 10, 'class_weight': 'balanced', 'penalty': 'l1', 'solver': 'liblinear'}\n",
      "Mean AUC: 0.5048 (+/- 0.0312) for parameters: {'C': 10, 'class_weight': 'balanced', 'penalty': 'l2', 'solver': 'liblinear'}\n",
      "\n",
      "Test AUC for Logistic Regression: 0.5108\n",
      "\n",
      "Classification Report:\n",
      "              precision    recall  f1-score   support\n",
      "\n",
      "           0       0.53      0.50      0.52       186\n",
      "           1       0.54      0.58      0.56       192\n",
      "\n",
      "    accuracy                           0.54       378\n",
      "   macro avg       0.54      0.54      0.54       378\n",
      "weighted avg       0.54      0.54      0.54       378\n",
      "\n",
      "Confusion Matrix:\n",
      "[[ 93  93]\n",
      " [ 81 111]]\n"
     ]
    },
    {
     "data": {
      "text/plain": [
       "['logistic_regression_model_best.pkl']"
      ]
     },
     "execution_count": 23,
     "metadata": {},
     "output_type": "execute_result"
    }
   ],
   "source": [
    "# Logistic Regression - Extracting Results\n",
    "\n",
    "# Best hyperparameters\n",
    "best_params_logistic = grid_search.best_params_\n",
    "print(\"Best Hyperparameters for Logistic Regression:\")\n",
    "for param_name in sorted(best_params_logistic.keys()):\n",
    "    print(f\"{param_name}: {best_params_logistic[param_name]}\")\n",
    "\n",
    "# Cross-validation results\n",
    "cv_results = grid_search.cv_results_\n",
    "mean_test_scores = cv_results['mean_test_score']\n",
    "std_test_scores = cv_results['std_test_score']\n",
    "params = cv_results['params']\n",
    "\n",
    "print(\"\\nCross-Validation AUC Scores:\")\n",
    "for mean_score, std_score, param in zip(mean_test_scores, std_test_scores, params):\n",
    "    print(f\"Mean AUC: {mean_score:.4f} (+/- {std_score:.4f}) for parameters: {param}\")\n",
    "\n",
    "# Final test AUC\n",
    "from sklearn.metrics import roc_auc_score, classification_report, confusion_matrix\n",
    "\n",
    "predictions = best_logreg.predict_proba(X_test_tfidf)[:, 1]\n",
    "test_auc = roc_auc_score(y_test, predictions)\n",
    "print(f\"\\nTest AUC for Logistic Regression: {test_auc:.4f}\")\n",
    "\n",
    "# Optionally, print additional metrics\n",
    "y_pred = best_logreg.predict(X_test_tfidf)\n",
    "print(\"\\nClassification Report:\")\n",
    "print(classification_report(y_test, y_pred))\n",
    "\n",
    "print(\"Confusion Matrix:\")\n",
    "print(confusion_matrix(y_test, y_pred))\n",
    "\n",
    "# Save the best model\n",
    "import joblib\n",
    "joblib.dump(best_logreg, 'logistic_regression_model_best.pkl')\n"
   ]
  },
  {
   "cell_type": "code",
   "execution_count": null,
   "id": "c135651b",
   "metadata": {},
   "outputs": [
    {
     "name": "stdout",
     "output_type": "stream",
     "text": [
      "Best Hyperparameters (LSTM): {'embedding_dim': 128, 'num_layers': 3, 'units_0': 64, 'dropout_0': 0.30000000000000004, 'bidirectional_0': True, 'learning_rate': 0.0012129560775108322, 'units_1': 128, 'dropout_1': 0.30000000000000004, 'bidirectional_1': False, 'units_2': 64, 'dropout_2': 0.2, 'bidirectional_2': False}\n",
      "Test AUC (LSTM): 0.5055443548387096\n"
     ]
    }
   ],
   "source": [
    "import json\n",
    "# Best hyperparameters from Keras Tuner\n",
    "best_hyperparameters_lstm = best_hp.values  # 'best_hp' is obtained from tuner.get_best_hyperparameters()[0]\n",
    "\n",
    "# Training history\n",
    "training_history_lstm = history.history  # 'history' is the result of best_model.fit()\n",
    "\n",
    "# Test AUC score\n",
    "test_auc_lstm = test_auc  # Evaluated on test data\n",
    "\n",
    "# Save the best hyperparameters and training history\n",
    "results_lstm = {\n",
    "    'best_hyperparameters': best_hyperparameters_lstm,\n",
    "    'training_history': training_history_lstm,\n",
    "    'test_auc': test_auc_lstm\n",
    "}\n",
    "\n",
    "with open('lstm_results.json', 'w') as f:\n",
    "    json.dump(results_lstm, f)\n",
    "\n",
    "print(f\"Best Hyperparameters (LSTM): {best_hyperparameters_lstm}\")\n",
    "print(f\"Test AUC (LSTM): {test_auc_lstm}\")"
   ]
  },
  {
   "cell_type": "code",
   "execution_count": null,
   "id": "9ccb659b",
   "metadata": {},
   "outputs": [
    {
     "name": "stdout",
     "output_type": "stream",
     "text": [
      "Best Hyperparameters (BERT): {'learning_rate': 5e-05, 'batch_size': 16, 'epochs': 3}\n",
      "Validation AUC (BERT): 0.5839177185600748\n",
      "Test AUC (BERT): 0.5212253584229392\n"
     ]
    }
   ],
   "source": [
    "# Best hyperparameters from your hyperparameter tuning loop\n",
    "best_hyperparameters_bert = best_params_bert  # 'best_params_bert' obtained during tuning\n",
    "best_val_auc_bert = best_auc_bert  # Best validation AUC during tuning\n",
    "test_auc_bert = test_auc_bert  # Test AUC score obtained after loading best model\n",
    "\n",
    "# Save the best hyperparameters and validation/test AUC\n",
    "results_bert = {\n",
    "    'best_hyperparameters': best_hyperparameters_bert,\n",
    "    'validation_auc': best_val_auc_bert,\n",
    "    'test_auc': test_auc_bert\n",
    "}\n",
    "\n",
    "with open('bert_results.json', 'w') as f:\n",
    "    json.dump(results_bert, f)\n",
    "\n",
    "print(f\"Best Hyperparameters (BERT): {best_hyperparameters_bert}\")\n",
    "print(f\"Validation AUC (BERT): {best_val_auc_bert}\")\n",
    "print(f\"Test AUC (BERT): {test_auc_bert}\")"
   ]
  },
  {
   "cell_type": "markdown",
   "id": "cd7b467d",
   "metadata": {},
   "source": [
    "### Conclusion\n",
    "\n",
    "In this project, we attempted to predict the movements of the Dow Jones Industrial Average (DJIA) using news headlines from Reddit's r/worldnews subreddit. \n",
    "\n",
    "We explored three different models:\n",
    "\n",
    "- Logistic Regression\n",
    "- Long Short-Term Memory (LSTM) Neural Network\n",
    "- Bidirectional Encoder Representations from Transformers (BERT)\n",
    "\n",
    "After extensive training and hyperparameter tuning, we evaluated each model's performance using the Area Under the Receiver Operating Characteristic Curve (AUC) metric on the test set. Below, we compare the models and discuss the results."
   ]
  },
  {
   "cell_type": "markdown",
   "id": "c0c3ee87",
   "metadata": {},
   "source": [
    "### Model Performance Comparison\n",
    "\n",
    "#### 1. Logistic Regression\n",
    "\n",
    "* Best Hyperparameters:\n",
    "    - C: 1\n",
    "    - class_weight: 'balanced'\n",
    "    - penalty: 'l1'\n",
    "    - solver: 'liblinear'\n",
    "\n",
    "* Test AUC: 0.5055\n",
    "* Accuracy: 53%\n",
    "* Classification Report:\n",
    "    - Precision, recall, and F1-scores around 0.52-0.57 for both classes"
   ]
  },
  {
   "cell_type": "markdown",
   "id": "5b25c4de",
   "metadata": {},
   "source": [
    "#### 2. LSTM Neural Network\n",
    "* Best Hyperparameters:\n",
    "    - embedding_dim: 128\n",
    "    - num_layers: 3\n",
    "    - units: [64, 128, 64]\n",
    "    - dropout: [0.3, 0.3, 0.2]\n",
    "    - bidirectional: [True, False, False]\n",
    "    - learning_rate: ~0.00121\n",
    "* Test AUC: 0.5055"
   ]
  },
  {
   "cell_type": "markdown",
   "id": "7941ef9e",
   "metadata": {},
   "source": [
    "### 3. BERT Model\n",
    "* Best Hyperparameters:\n",
    "    - learning_rate: \n",
    "5\n",
    "×\n",
    "1\n",
    "0 ^\n",
    "−\n",
    "5\n",
    "\n",
    " \n",
    "    - batch_size: 16\n",
    "    - epochs: 3\n",
    "* Validation AUC: 0.5839\n",
    "* Test AUC: 0.5212"
   ]
  },
  {
   "cell_type": "markdown",
   "id": "1563bf3a",
   "metadata": {},
   "source": [
    "### Analysis and Discussion\n",
    "#### Overall Performance\n",
    "All three models achieved test AUC scores slightly above 0.5, indicating performance marginally better than random guessing. The BERT model performed the best among the three, with a test AUC of approximately 0.5212, followed by Logistic Regression and the LSTM model.\n",
    "\n",
    "#### Interpretation of Results\n",
    "- Logistic Regression: Despite its simplicity, Logistic Regression achieved an AUC similar to the LSTM model. This suggests that linear relationships in the data are weak predictors of stock movements in this context.\n",
    "\n",
    "- LSTM Model: The LSTM, designed to capture sequential dependencies in text data, did not outperform Logistic Regression. This could be due to several factors, including insufficient data, the complexity of the task, or the model's inability to capture the necessary patterns from the news headlines.\n",
    "\n",
    "- BERT Model: BERT showed a slight improvement over the other models, likely due to its advanced language understanding capabilities. Its higher validation AUC suggests that it could capture some meaningful patterns during training, but this did not fully translate to the test set."
   ]
  },
  {
   "cell_type": "markdown",
   "id": "79bf12db",
   "metadata": {},
   "source": [
    "### Challenges in Predicting Stock Movements\n",
    "* Complexity of the Stock Market: The stock market is influenced by a myriad of factors beyond news headlines, including economic indicators, geopolitical events, market sentiment, and unexpected incidents. Capturing this complexity with news headlines alone is exceedingly difficult.\n",
    "\n",
    "* Noise in Data: News headlines can be ambiguous, misleading, or irrelevant to stock movements. Additionally, the sentiment or impact of a headline may not directly correlate with immediate market reactions.\n",
    "\n",
    "* Data Limitations: The dataset spans from 2008 to 2016 and may not be large enough for deep learning models to learn complex patterns effectively. Moreover, the diversity and quality of the headlines can affect the models' ability to generalize.\n",
    "\n",
    "* Binary Classification Simplification: Reducing stock movements to a binary outcome (up or down) oversimplifies the nuances of market fluctuations, potentially leading to information loss.\n",
    "\n"
   ]
  },
  {
   "cell_type": "markdown",
   "id": "583dcb1a",
   "metadata": {},
   "source": [
    "### Recommendations for Future Work\n",
    "* Data Enhancement:\n",
    "\n",
    "    - Increase Dataset Size: Collect more data to improve model training, especially for deep learning models that require large datasets.\n",
    "    - Diverse Data Sources: Include other relevant data, such as financial reports, economic indicators, and social media sentiment.\n",
    "\n",
    "* Feature Engineering:\n",
    "\n",
    "    - Sentiment Analysis: Incorporate sentiment scores from headlines to capture positive or negative tones.\n",
    "    - Topic Modeling: Identify specific topics or keywords that might influence the market.\n",
    "\n",
    "*   Advanced Modeling Techniques:\n",
    "\n",
    "    * Ensemble Methods: Combine multiple models to leverage different strengths.\n",
    "    * Transfer Learning: Utilize pre-trained models on financial text data to improve language understanding in the financial context."
   ]
  },
  {
   "cell_type": "markdown",
   "id": "b02b8672",
   "metadata": {},
   "source": [
    "### Conclusions\n",
    "* Marginal Improvement with Advanced Models: While BERT marginally outperformed the other models, the overall improvement was minimal. This suggests that more sophisticated models do not necessarily guarantee better performance in this task.\n",
    "\n",
    "* Difficulty of the Task: The low AUC scores across all models highlight the inherent difficulty in predicting stock market movements using news headlines alone. The stock market's complexity makes it challenging for models to capture all the influencing factors.\n",
    "\n",
    "* Need for Additional Data and Features: Incorporating more diverse data sources, such as financial indicators, social media sentiment, and macroeconomic variables, could enhance the models' predictive capabilities.\n",
    "\n",
    "* Predicting stock market movements remains one of the most challenging tasks in financial analytics. While machine learning and deep learning models offer powerful tools, their effectiveness is limited by the complexity of financial markets and the quality of input data. This project underscores the need for comprehensive data, careful feature selection, and realistic expectations when applying predictive models to the stock market."
   ]
  }
 ],
 "metadata": {
  "kaggle": {
   "accelerator": "gpu",
   "dataSources": [
    {
     "databundleVersionId": 814688,
     "datasetId": 129,
     "sourceId": 792900,
     "sourceType": "datasetVersion"
    }
   ],
   "dockerImageVersionId": 30787,
   "isGpuEnabled": true,
   "isInternetEnabled": true,
   "language": "python",
   "sourceType": "notebook"
  },
  "kernelspec": {
   "display_name": "Python 3",
   "language": "python",
   "name": "python3"
  },
  "language_info": {
   "codemirror_mode": {
    "name": "ipython",
    "version": 3
   },
   "file_extension": ".py",
   "mimetype": "text/x-python",
   "name": "python",
   "nbconvert_exporter": "python",
   "pygments_lexer": "ipython3",
   "version": "3.11.9"
  },
  "papermill": {
   "default_parameters": {},
   "duration": 11100.091952,
   "end_time": "2024-12-02T12:54:53.589143",
   "environment_variables": {},
   "exception": null,
   "input_path": "__notebook__.ipynb",
   "output_path": "__notebook__.ipynb",
   "parameters": {},
   "start_time": "2024-12-02T09:49:53.497191",
   "version": "2.6.0"
  },
  "widgets": {
   "application/vnd.jupyter.widget-state+json": {
    "state": {
     "099ca1042729452f99ae5af916919f0f": {
      "model_module": "@jupyter-widgets/controls",
      "model_module_version": "1.5.0",
      "model_name": "HBoxModel",
      "state": {
       "_dom_classes": [],
       "_model_module": "@jupyter-widgets/controls",
       "_model_module_version": "1.5.0",
       "_model_name": "HBoxModel",
       "_view_count": null,
       "_view_module": "@jupyter-widgets/controls",
       "_view_module_version": "1.5.0",
       "_view_name": "HBoxView",
       "box_style": "",
       "children": [
        "IPY_MODEL_3f8772de6d8d4299a2032e304b3fac54",
        "IPY_MODEL_8bd5cb042f91448d97f4f73c7598991f",
        "IPY_MODEL_0b98d3ecf6314429b74c7bff7cca3d58"
       ],
       "layout": "IPY_MODEL_fb9a3e2097b044438a06b13f07625a79"
      }
     },
     "0b98d3ecf6314429b74c7bff7cca3d58": {
      "model_module": "@jupyter-widgets/controls",
      "model_module_version": "1.5.0",
      "model_name": "HTMLModel",
      "state": {
       "_dom_classes": [],
       "_model_module": "@jupyter-widgets/controls",
       "_model_module_version": "1.5.0",
       "_model_name": "HTMLModel",
       "_view_count": null,
       "_view_module": "@jupyter-widgets/controls",
       "_view_module_version": "1.5.0",
       "_view_name": "HTMLView",
       "description": "",
       "description_tooltip": null,
       "layout": "IPY_MODEL_184359cfc93c4a959956292bb0800655",
       "placeholder": "​",
       "style": "IPY_MODEL_263265e644144ef38e6ba2f17b125348",
       "value": " 48.0/48.0 [00:00&lt;00:00, 4.76kB/s]"
      }
     },
     "0cbfb421cf4945708bc3c230228a0000": {
      "model_module": "@jupyter-widgets/base",
      "model_module_version": "1.2.0",
      "model_name": "LayoutModel",
      "state": {
       "_model_module": "@jupyter-widgets/base",
       "_model_module_version": "1.2.0",
       "_model_name": "LayoutModel",
       "_view_count": null,
       "_view_module": "@jupyter-widgets/base",
       "_view_module_version": "1.2.0",
       "_view_name": "LayoutView",
       "align_content": null,
       "align_items": null,
       "align_self": null,
       "border": null,
       "bottom": null,
       "display": null,
       "flex": null,
       "flex_flow": null,
       "grid_area": null,
       "grid_auto_columns": null,
       "grid_auto_flow": null,
       "grid_auto_rows": null,
       "grid_column": null,
       "grid_gap": null,
       "grid_row": null,
       "grid_template_areas": null,
       "grid_template_columns": null,
       "grid_template_rows": null,
       "height": null,
       "justify_content": null,
       "justify_items": null,
       "left": null,
       "margin": null,
       "max_height": null,
       "max_width": null,
       "min_height": null,
       "min_width": null,
       "object_fit": null,
       "object_position": null,
       "order": null,
       "overflow": null,
       "overflow_x": null,
       "overflow_y": null,
       "padding": null,
       "right": null,
       "top": null,
       "visibility": null,
       "width": null
      }
     },
     "0eb197ff4f4049cfa66bafc227d636b1": {
      "model_module": "@jupyter-widgets/base",
      "model_module_version": "1.2.0",
      "model_name": "LayoutModel",
      "state": {
       "_model_module": "@jupyter-widgets/base",
       "_model_module_version": "1.2.0",
       "_model_name": "LayoutModel",
       "_view_count": null,
       "_view_module": "@jupyter-widgets/base",
       "_view_module_version": "1.2.0",
       "_view_name": "LayoutView",
       "align_content": null,
       "align_items": null,
       "align_self": null,
       "border": null,
       "bottom": null,
       "display": null,
       "flex": null,
       "flex_flow": null,
       "grid_area": null,
       "grid_auto_columns": null,
       "grid_auto_flow": null,
       "grid_auto_rows": null,
       "grid_column": null,
       "grid_gap": null,
       "grid_row": null,
       "grid_template_areas": null,
       "grid_template_columns": null,
       "grid_template_rows": null,
       "height": null,
       "justify_content": null,
       "justify_items": null,
       "left": null,
       "margin": null,
       "max_height": null,
       "max_width": null,
       "min_height": null,
       "min_width": null,
       "object_fit": null,
       "object_position": null,
       "order": null,
       "overflow": null,
       "overflow_x": null,
       "overflow_y": null,
       "padding": null,
       "right": null,
       "top": null,
       "visibility": null,
       "width": null
      }
     },
     "0f33fb1b88434d38b21ae142d195a92d": {
      "model_module": "@jupyter-widgets/base",
      "model_module_version": "1.2.0",
      "model_name": "LayoutModel",
      "state": {
       "_model_module": "@jupyter-widgets/base",
       "_model_module_version": "1.2.0",
       "_model_name": "LayoutModel",
       "_view_count": null,
       "_view_module": "@jupyter-widgets/base",
       "_view_module_version": "1.2.0",
       "_view_name": "LayoutView",
       "align_content": null,
       "align_items": null,
       "align_self": null,
       "border": null,
       "bottom": null,
       "display": null,
       "flex": null,
       "flex_flow": null,
       "grid_area": null,
       "grid_auto_columns": null,
       "grid_auto_flow": null,
       "grid_auto_rows": null,
       "grid_column": null,
       "grid_gap": null,
       "grid_row": null,
       "grid_template_areas": null,
       "grid_template_columns": null,
       "grid_template_rows": null,
       "height": null,
       "justify_content": null,
       "justify_items": null,
       "left": null,
       "margin": null,
       "max_height": null,
       "max_width": null,
       "min_height": null,
       "min_width": null,
       "object_fit": null,
       "object_position": null,
       "order": null,
       "overflow": null,
       "overflow_x": null,
       "overflow_y": null,
       "padding": null,
       "right": null,
       "top": null,
       "visibility": null,
       "width": null
      }
     },
     "108f37373b164ebc88e5493371938cbb": {
      "model_module": "@jupyter-widgets/controls",
      "model_module_version": "1.5.0",
      "model_name": "HTMLModel",
      "state": {
       "_dom_classes": [],
       "_model_module": "@jupyter-widgets/controls",
       "_model_module_version": "1.5.0",
       "_model_name": "HTMLModel",
       "_view_count": null,
       "_view_module": "@jupyter-widgets/controls",
       "_view_module_version": "1.5.0",
       "_view_name": "HTMLView",
       "description": "",
       "description_tooltip": null,
       "layout": "IPY_MODEL_7b183543f5df47c29e45f28bca447fde",
       "placeholder": "​",
       "style": "IPY_MODEL_5236b41e85ce4e13823ce8ec146ec01e",
       "value": "model.safetensors: 100%"
      }
     },
     "120bf42f1f1f488fa84e6ca38321f9bb": {
      "model_module": "@jupyter-widgets/controls",
      "model_module_version": "1.5.0",
      "model_name": "DescriptionStyleModel",
      "state": {
       "_model_module": "@jupyter-widgets/controls",
       "_model_module_version": "1.5.0",
       "_model_name": "DescriptionStyleModel",
       "_view_count": null,
       "_view_module": "@jupyter-widgets/base",
       "_view_module_version": "1.2.0",
       "_view_name": "StyleView",
       "description_width": ""
      }
     },
     "164ad7ec940347d898e99828c0670f61": {
      "model_module": "@jupyter-widgets/controls",
      "model_module_version": "1.5.0",
      "model_name": "DescriptionStyleModel",
      "state": {
       "_model_module": "@jupyter-widgets/controls",
       "_model_module_version": "1.5.0",
       "_model_name": "DescriptionStyleModel",
       "_view_count": null,
       "_view_module": "@jupyter-widgets/base",
       "_view_module_version": "1.2.0",
       "_view_name": "StyleView",
       "description_width": ""
      }
     },
     "17ce16275edc4fc8a1172cf59e4c45ab": {
      "model_module": "@jupyter-widgets/base",
      "model_module_version": "1.2.0",
      "model_name": "LayoutModel",
      "state": {
       "_model_module": "@jupyter-widgets/base",
       "_model_module_version": "1.2.0",
       "_model_name": "LayoutModel",
       "_view_count": null,
       "_view_module": "@jupyter-widgets/base",
       "_view_module_version": "1.2.0",
       "_view_name": "LayoutView",
       "align_content": null,
       "align_items": null,
       "align_self": null,
       "border": null,
       "bottom": null,
       "display": null,
       "flex": null,
       "flex_flow": null,
       "grid_area": null,
       "grid_auto_columns": null,
       "grid_auto_flow": null,
       "grid_auto_rows": null,
       "grid_column": null,
       "grid_gap": null,
       "grid_row": null,
       "grid_template_areas": null,
       "grid_template_columns": null,
       "grid_template_rows": null,
       "height": null,
       "justify_content": null,
       "justify_items": null,
       "left": null,
       "margin": null,
       "max_height": null,
       "max_width": null,
       "min_height": null,
       "min_width": null,
       "object_fit": null,
       "object_position": null,
       "order": null,
       "overflow": null,
       "overflow_x": null,
       "overflow_y": null,
       "padding": null,
       "right": null,
       "top": null,
       "visibility": null,
       "width": null
      }
     },
     "184359cfc93c4a959956292bb0800655": {
      "model_module": "@jupyter-widgets/base",
      "model_module_version": "1.2.0",
      "model_name": "LayoutModel",
      "state": {
       "_model_module": "@jupyter-widgets/base",
       "_model_module_version": "1.2.0",
       "_model_name": "LayoutModel",
       "_view_count": null,
       "_view_module": "@jupyter-widgets/base",
       "_view_module_version": "1.2.0",
       "_view_name": "LayoutView",
       "align_content": null,
       "align_items": null,
       "align_self": null,
       "border": null,
       "bottom": null,
       "display": null,
       "flex": null,
       "flex_flow": null,
       "grid_area": null,
       "grid_auto_columns": null,
       "grid_auto_flow": null,
       "grid_auto_rows": null,
       "grid_column": null,
       "grid_gap": null,
       "grid_row": null,
       "grid_template_areas": null,
       "grid_template_columns": null,
       "grid_template_rows": null,
       "height": null,
       "justify_content": null,
       "justify_items": null,
       "left": null,
       "margin": null,
       "max_height": null,
       "max_width": null,
       "min_height": null,
       "min_width": null,
       "object_fit": null,
       "object_position": null,
       "order": null,
       "overflow": null,
       "overflow_x": null,
       "overflow_y": null,
       "padding": null,
       "right": null,
       "top": null,
       "visibility": null,
       "width": null
      }
     },
     "1f810d4e3e7543b19a01043f953c9eef": {
      "model_module": "@jupyter-widgets/controls",
      "model_module_version": "1.5.0",
      "model_name": "FloatProgressModel",
      "state": {
       "_dom_classes": [],
       "_model_module": "@jupyter-widgets/controls",
       "_model_module_version": "1.5.0",
       "_model_name": "FloatProgressModel",
       "_view_count": null,
       "_view_module": "@jupyter-widgets/controls",
       "_view_module_version": "1.5.0",
       "_view_name": "ProgressView",
       "bar_style": "success",
       "description": "",
       "description_tooltip": null,
       "layout": "IPY_MODEL_17ce16275edc4fc8a1172cf59e4c45ab",
       "max": 466062,
       "min": 0,
       "orientation": "horizontal",
       "style": "IPY_MODEL_9d12a19325d747f3bf4c60803b06b004",
       "value": 466062
      }
     },
     "263265e644144ef38e6ba2f17b125348": {
      "model_module": "@jupyter-widgets/controls",
      "model_module_version": "1.5.0",
      "model_name": "DescriptionStyleModel",
      "state": {
       "_model_module": "@jupyter-widgets/controls",
       "_model_module_version": "1.5.0",
       "_model_name": "DescriptionStyleModel",
       "_view_count": null,
       "_view_module": "@jupyter-widgets/base",
       "_view_module_version": "1.2.0",
       "_view_name": "StyleView",
       "description_width": ""
      }
     },
     "26b71eb57ef343c38a84c33cfaa0f038": {
      "model_module": "@jupyter-widgets/controls",
      "model_module_version": "1.5.0",
      "model_name": "HTMLModel",
      "state": {
       "_dom_classes": [],
       "_model_module": "@jupyter-widgets/controls",
       "_model_module_version": "1.5.0",
       "_model_name": "HTMLModel",
       "_view_count": null,
       "_view_module": "@jupyter-widgets/controls",
       "_view_module_version": "1.5.0",
       "_view_name": "HTMLView",
       "description": "",
       "description_tooltip": null,
       "layout": "IPY_MODEL_cb095b335f96451490bda1b547465c34",
       "placeholder": "​",
       "style": "IPY_MODEL_7c2d0715a93b46fb8fa778a34be31d22",
       "value": " 232k/232k [00:00&lt;00:00, 7.43MB/s]"
      }
     },
     "30a242c30a8f44958ce8bd1564258497": {
      "model_module": "@jupyter-widgets/base",
      "model_module_version": "1.2.0",
      "model_name": "LayoutModel",
      "state": {
       "_model_module": "@jupyter-widgets/base",
       "_model_module_version": "1.2.0",
       "_model_name": "LayoutModel",
       "_view_count": null,
       "_view_module": "@jupyter-widgets/base",
       "_view_module_version": "1.2.0",
       "_view_name": "LayoutView",
       "align_content": null,
       "align_items": null,
       "align_self": null,
       "border": null,
       "bottom": null,
       "display": null,
       "flex": null,
       "flex_flow": null,
       "grid_area": null,
       "grid_auto_columns": null,
       "grid_auto_flow": null,
       "grid_auto_rows": null,
       "grid_column": null,
       "grid_gap": null,
       "grid_row": null,
       "grid_template_areas": null,
       "grid_template_columns": null,
       "grid_template_rows": null,
       "height": null,
       "justify_content": null,
       "justify_items": null,
       "left": null,
       "margin": null,
       "max_height": null,
       "max_width": null,
       "min_height": null,
       "min_width": null,
       "object_fit": null,
       "object_position": null,
       "order": null,
       "overflow": null,
       "overflow_x": null,
       "overflow_y": null,
       "padding": null,
       "right": null,
       "top": null,
       "visibility": null,
       "width": null
      }
     },
     "3420440d476f4549b5350d92fa50eec1": {
      "model_module": "@jupyter-widgets/base",
      "model_module_version": "1.2.0",
      "model_name": "LayoutModel",
      "state": {
       "_model_module": "@jupyter-widgets/base",
       "_model_module_version": "1.2.0",
       "_model_name": "LayoutModel",
       "_view_count": null,
       "_view_module": "@jupyter-widgets/base",
       "_view_module_version": "1.2.0",
       "_view_name": "LayoutView",
       "align_content": null,
       "align_items": null,
       "align_self": null,
       "border": null,
       "bottom": null,
       "display": null,
       "flex": null,
       "flex_flow": null,
       "grid_area": null,
       "grid_auto_columns": null,
       "grid_auto_flow": null,
       "grid_auto_rows": null,
       "grid_column": null,
       "grid_gap": null,
       "grid_row": null,
       "grid_template_areas": null,
       "grid_template_columns": null,
       "grid_template_rows": null,
       "height": null,
       "justify_content": null,
       "justify_items": null,
       "left": null,
       "margin": null,
       "max_height": null,
       "max_width": null,
       "min_height": null,
       "min_width": null,
       "object_fit": null,
       "object_position": null,
       "order": null,
       "overflow": null,
       "overflow_x": null,
       "overflow_y": null,
       "padding": null,
       "right": null,
       "top": null,
       "visibility": null,
       "width": null
      }
     },
     "36de9aa0bdc44ff0919ede1925ca95f0": {
      "model_module": "@jupyter-widgets/controls",
      "model_module_version": "1.5.0",
      "model_name": "DescriptionStyleModel",
      "state": {
       "_model_module": "@jupyter-widgets/controls",
       "_model_module_version": "1.5.0",
       "_model_name": "DescriptionStyleModel",
       "_view_count": null,
       "_view_module": "@jupyter-widgets/base",
       "_view_module_version": "1.2.0",
       "_view_name": "StyleView",
       "description_width": ""
      }
     },
     "3ac8410da5f34e36920e7227fc75a034": {
      "model_module": "@jupyter-widgets/controls",
      "model_module_version": "1.5.0",
      "model_name": "FloatProgressModel",
      "state": {
       "_dom_classes": [],
       "_model_module": "@jupyter-widgets/controls",
       "_model_module_version": "1.5.0",
       "_model_name": "FloatProgressModel",
       "_view_count": null,
       "_view_module": "@jupyter-widgets/controls",
       "_view_module_version": "1.5.0",
       "_view_name": "ProgressView",
       "bar_style": "success",
       "description": "",
       "description_tooltip": null,
       "layout": "IPY_MODEL_790680c0bee145c9abb53a7c085f7e04",
       "max": 231508,
       "min": 0,
       "orientation": "horizontal",
       "style": "IPY_MODEL_61685998f2eb47f7bed59b9ca18da4f1",
       "value": 231508
      }
     },
     "3f8772de6d8d4299a2032e304b3fac54": {
      "model_module": "@jupyter-widgets/controls",
      "model_module_version": "1.5.0",
      "model_name": "HTMLModel",
      "state": {
       "_dom_classes": [],
       "_model_module": "@jupyter-widgets/controls",
       "_model_module_version": "1.5.0",
       "_model_name": "HTMLModel",
       "_view_count": null,
       "_view_module": "@jupyter-widgets/controls",
       "_view_module_version": "1.5.0",
       "_view_name": "HTMLView",
       "description": "",
       "description_tooltip": null,
       "layout": "IPY_MODEL_82457ef631334337a49c295db0a383bc",
       "placeholder": "​",
       "style": "IPY_MODEL_ba2f7f480e1148ba881613626d814a0b",
       "value": "tokenizer_config.json: 100%"
      }
     },
     "46e70be0e43d4d33900c16a40928e8d3": {
      "model_module": "@jupyter-widgets/controls",
      "model_module_version": "1.5.0",
      "model_name": "HBoxModel",
      "state": {
       "_dom_classes": [],
       "_model_module": "@jupyter-widgets/controls",
       "_model_module_version": "1.5.0",
       "_model_name": "HBoxModel",
       "_view_count": null,
       "_view_module": "@jupyter-widgets/controls",
       "_view_module_version": "1.5.0",
       "_view_name": "HBoxView",
       "box_style": "",
       "children": [
        "IPY_MODEL_9c453ea569e44233bd5d418d9ccbe91d",
        "IPY_MODEL_db0ceedf6d1d402faa4b4b8dd1297849",
        "IPY_MODEL_c3f362e52d704267ba4b0c2e06af7069"
       ],
       "layout": "IPY_MODEL_8b241fd3df0445a996480c62768acbda"
      }
     },
     "4b425713644e4df9901e28a2f060625f": {
      "model_module": "@jupyter-widgets/controls",
      "model_module_version": "1.5.0",
      "model_name": "DescriptionStyleModel",
      "state": {
       "_model_module": "@jupyter-widgets/controls",
       "_model_module_version": "1.5.0",
       "_model_name": "DescriptionStyleModel",
       "_view_count": null,
       "_view_module": "@jupyter-widgets/base",
       "_view_module_version": "1.2.0",
       "_view_name": "StyleView",
       "description_width": ""
      }
     },
     "4c0ad5f09cc346daad9cca86d2276172": {
      "model_module": "@jupyter-widgets/controls",
      "model_module_version": "1.5.0",
      "model_name": "ProgressStyleModel",
      "state": {
       "_model_module": "@jupyter-widgets/controls",
       "_model_module_version": "1.5.0",
       "_model_name": "ProgressStyleModel",
       "_view_count": null,
       "_view_module": "@jupyter-widgets/base",
       "_view_module_version": "1.2.0",
       "_view_name": "StyleView",
       "bar_color": null,
       "description_width": ""
      }
     },
     "4d8b63c999634aaf967b583213b3f50d": {
      "model_module": "@jupyter-widgets/controls",
      "model_module_version": "1.5.0",
      "model_name": "HTMLModel",
      "state": {
       "_dom_classes": [],
       "_model_module": "@jupyter-widgets/controls",
       "_model_module_version": "1.5.0",
       "_model_name": "HTMLModel",
       "_view_count": null,
       "_view_module": "@jupyter-widgets/controls",
       "_view_module_version": "1.5.0",
       "_view_name": "HTMLView",
       "description": "",
       "description_tooltip": null,
       "layout": "IPY_MODEL_b3d1eeed90ed4992ac4bcc4d194873f5",
       "placeholder": "​",
       "style": "IPY_MODEL_120bf42f1f1f488fa84e6ca38321f9bb",
       "value": " 466k/466k [00:00&lt;00:00, 32.2MB/s]"
      }
     },
     "5236b41e85ce4e13823ce8ec146ec01e": {
      "model_module": "@jupyter-widgets/controls",
      "model_module_version": "1.5.0",
      "model_name": "DescriptionStyleModel",
      "state": {
       "_model_module": "@jupyter-widgets/controls",
       "_model_module_version": "1.5.0",
       "_model_name": "DescriptionStyleModel",
       "_view_count": null,
       "_view_module": "@jupyter-widgets/base",
       "_view_module_version": "1.2.0",
       "_view_name": "StyleView",
       "description_width": ""
      }
     },
     "61685998f2eb47f7bed59b9ca18da4f1": {
      "model_module": "@jupyter-widgets/controls",
      "model_module_version": "1.5.0",
      "model_name": "ProgressStyleModel",
      "state": {
       "_model_module": "@jupyter-widgets/controls",
       "_model_module_version": "1.5.0",
       "_model_name": "ProgressStyleModel",
       "_view_count": null,
       "_view_module": "@jupyter-widgets/base",
       "_view_module_version": "1.2.0",
       "_view_name": "StyleView",
       "bar_color": null,
       "description_width": ""
      }
     },
     "63217e7497424fd3afda52bda42c21af": {
      "model_module": "@jupyter-widgets/base",
      "model_module_version": "1.2.0",
      "model_name": "LayoutModel",
      "state": {
       "_model_module": "@jupyter-widgets/base",
       "_model_module_version": "1.2.0",
       "_model_name": "LayoutModel",
       "_view_count": null,
       "_view_module": "@jupyter-widgets/base",
       "_view_module_version": "1.2.0",
       "_view_name": "LayoutView",
       "align_content": null,
       "align_items": null,
       "align_self": null,
       "border": null,
       "bottom": null,
       "display": null,
       "flex": null,
       "flex_flow": null,
       "grid_area": null,
       "grid_auto_columns": null,
       "grid_auto_flow": null,
       "grid_auto_rows": null,
       "grid_column": null,
       "grid_gap": null,
       "grid_row": null,
       "grid_template_areas": null,
       "grid_template_columns": null,
       "grid_template_rows": null,
       "height": null,
       "justify_content": null,
       "justify_items": null,
       "left": null,
       "margin": null,
       "max_height": null,
       "max_width": null,
       "min_height": null,
       "min_width": null,
       "object_fit": null,
       "object_position": null,
       "order": null,
       "overflow": null,
       "overflow_x": null,
       "overflow_y": null,
       "padding": null,
       "right": null,
       "top": null,
       "visibility": null,
       "width": null
      }
     },
     "696f37b9512f44f486d6ac63bd8c078d": {
      "model_module": "@jupyter-widgets/controls",
      "model_module_version": "1.5.0",
      "model_name": "DescriptionStyleModel",
      "state": {
       "_model_module": "@jupyter-widgets/controls",
       "_model_module_version": "1.5.0",
       "_model_name": "DescriptionStyleModel",
       "_view_count": null,
       "_view_module": "@jupyter-widgets/base",
       "_view_module_version": "1.2.0",
       "_view_name": "StyleView",
       "description_width": ""
      }
     },
     "7734664965e4409a870d3a3eb633d249": {
      "model_module": "@jupyter-widgets/base",
      "model_module_version": "1.2.0",
      "model_name": "LayoutModel",
      "state": {
       "_model_module": "@jupyter-widgets/base",
       "_model_module_version": "1.2.0",
       "_model_name": "LayoutModel",
       "_view_count": null,
       "_view_module": "@jupyter-widgets/base",
       "_view_module_version": "1.2.0",
       "_view_name": "LayoutView",
       "align_content": null,
       "align_items": null,
       "align_self": null,
       "border": null,
       "bottom": null,
       "display": null,
       "flex": null,
       "flex_flow": null,
       "grid_area": null,
       "grid_auto_columns": null,
       "grid_auto_flow": null,
       "grid_auto_rows": null,
       "grid_column": null,
       "grid_gap": null,
       "grid_row": null,
       "grid_template_areas": null,
       "grid_template_columns": null,
       "grid_template_rows": null,
       "height": null,
       "justify_content": null,
       "justify_items": null,
       "left": null,
       "margin": null,
       "max_height": null,
       "max_width": null,
       "min_height": null,
       "min_width": null,
       "object_fit": null,
       "object_position": null,
       "order": null,
       "overflow": null,
       "overflow_x": null,
       "overflow_y": null,
       "padding": null,
       "right": null,
       "top": null,
       "visibility": null,
       "width": null
      }
     },
     "790680c0bee145c9abb53a7c085f7e04": {
      "model_module": "@jupyter-widgets/base",
      "model_module_version": "1.2.0",
      "model_name": "LayoutModel",
      "state": {
       "_model_module": "@jupyter-widgets/base",
       "_model_module_version": "1.2.0",
       "_model_name": "LayoutModel",
       "_view_count": null,
       "_view_module": "@jupyter-widgets/base",
       "_view_module_version": "1.2.0",
       "_view_name": "LayoutView",
       "align_content": null,
       "align_items": null,
       "align_self": null,
       "border": null,
       "bottom": null,
       "display": null,
       "flex": null,
       "flex_flow": null,
       "grid_area": null,
       "grid_auto_columns": null,
       "grid_auto_flow": null,
       "grid_auto_rows": null,
       "grid_column": null,
       "grid_gap": null,
       "grid_row": null,
       "grid_template_areas": null,
       "grid_template_columns": null,
       "grid_template_rows": null,
       "height": null,
       "justify_content": null,
       "justify_items": null,
       "left": null,
       "margin": null,
       "max_height": null,
       "max_width": null,
       "min_height": null,
       "min_width": null,
       "object_fit": null,
       "object_position": null,
       "order": null,
       "overflow": null,
       "overflow_x": null,
       "overflow_y": null,
       "padding": null,
       "right": null,
       "top": null,
       "visibility": null,
       "width": null
      }
     },
     "7af7aeab44b9497f8ddef146b1578f13": {
      "model_module": "@jupyter-widgets/base",
      "model_module_version": "1.2.0",
      "model_name": "LayoutModel",
      "state": {
       "_model_module": "@jupyter-widgets/base",
       "_model_module_version": "1.2.0",
       "_model_name": "LayoutModel",
       "_view_count": null,
       "_view_module": "@jupyter-widgets/base",
       "_view_module_version": "1.2.0",
       "_view_name": "LayoutView",
       "align_content": null,
       "align_items": null,
       "align_self": null,
       "border": null,
       "bottom": null,
       "display": null,
       "flex": null,
       "flex_flow": null,
       "grid_area": null,
       "grid_auto_columns": null,
       "grid_auto_flow": null,
       "grid_auto_rows": null,
       "grid_column": null,
       "grid_gap": null,
       "grid_row": null,
       "grid_template_areas": null,
       "grid_template_columns": null,
       "grid_template_rows": null,
       "height": null,
       "justify_content": null,
       "justify_items": null,
       "left": null,
       "margin": null,
       "max_height": null,
       "max_width": null,
       "min_height": null,
       "min_width": null,
       "object_fit": null,
       "object_position": null,
       "order": null,
       "overflow": null,
       "overflow_x": null,
       "overflow_y": null,
       "padding": null,
       "right": null,
       "top": null,
       "visibility": null,
       "width": null
      }
     },
     "7b183543f5df47c29e45f28bca447fde": {
      "model_module": "@jupyter-widgets/base",
      "model_module_version": "1.2.0",
      "model_name": "LayoutModel",
      "state": {
       "_model_module": "@jupyter-widgets/base",
       "_model_module_version": "1.2.0",
       "_model_name": "LayoutModel",
       "_view_count": null,
       "_view_module": "@jupyter-widgets/base",
       "_view_module_version": "1.2.0",
       "_view_name": "LayoutView",
       "align_content": null,
       "align_items": null,
       "align_self": null,
       "border": null,
       "bottom": null,
       "display": null,
       "flex": null,
       "flex_flow": null,
       "grid_area": null,
       "grid_auto_columns": null,
       "grid_auto_flow": null,
       "grid_auto_rows": null,
       "grid_column": null,
       "grid_gap": null,
       "grid_row": null,
       "grid_template_areas": null,
       "grid_template_columns": null,
       "grid_template_rows": null,
       "height": null,
       "justify_content": null,
       "justify_items": null,
       "left": null,
       "margin": null,
       "max_height": null,
       "max_width": null,
       "min_height": null,
       "min_width": null,
       "object_fit": null,
       "object_position": null,
       "order": null,
       "overflow": null,
       "overflow_x": null,
       "overflow_y": null,
       "padding": null,
       "right": null,
       "top": null,
       "visibility": null,
       "width": null
      }
     },
     "7c2d0715a93b46fb8fa778a34be31d22": {
      "model_module": "@jupyter-widgets/controls",
      "model_module_version": "1.5.0",
      "model_name": "DescriptionStyleModel",
      "state": {
       "_model_module": "@jupyter-widgets/controls",
       "_model_module_version": "1.5.0",
       "_model_name": "DescriptionStyleModel",
       "_view_count": null,
       "_view_module": "@jupyter-widgets/base",
       "_view_module_version": "1.2.0",
       "_view_name": "StyleView",
       "description_width": ""
      }
     },
     "7ccd4f9484f749cbb1cba13312789008": {
      "model_module": "@jupyter-widgets/controls",
      "model_module_version": "1.5.0",
      "model_name": "HBoxModel",
      "state": {
       "_dom_classes": [],
       "_model_module": "@jupyter-widgets/controls",
       "_model_module_version": "1.5.0",
       "_model_name": "HBoxModel",
       "_view_count": null,
       "_view_module": "@jupyter-widgets/controls",
       "_view_module_version": "1.5.0",
       "_view_name": "HBoxView",
       "box_style": "",
       "children": [
        "IPY_MODEL_826e17ad44b3438ea022ca78e39763e5",
        "IPY_MODEL_1f810d4e3e7543b19a01043f953c9eef",
        "IPY_MODEL_4d8b63c999634aaf967b583213b3f50d"
       ],
       "layout": "IPY_MODEL_7734664965e4409a870d3a3eb633d249"
      }
     },
     "7d98eeccace64549beacbaf16f0c3dea": {
      "model_module": "@jupyter-widgets/controls",
      "model_module_version": "1.5.0",
      "model_name": "HTMLModel",
      "state": {
       "_dom_classes": [],
       "_model_module": "@jupyter-widgets/controls",
       "_model_module_version": "1.5.0",
       "_model_name": "HTMLModel",
       "_view_count": null,
       "_view_module": "@jupyter-widgets/controls",
       "_view_module_version": "1.5.0",
       "_view_name": "HTMLView",
       "description": "",
       "description_tooltip": null,
       "layout": "IPY_MODEL_63217e7497424fd3afda52bda42c21af",
       "placeholder": "​",
       "style": "IPY_MODEL_164ad7ec940347d898e99828c0670f61",
       "value": "vocab.txt: 100%"
      }
     },
     "7e346910a679415993a13a5c592d8951": {
      "model_module": "@jupyter-widgets/controls",
      "model_module_version": "1.5.0",
      "model_name": "ProgressStyleModel",
      "state": {
       "_model_module": "@jupyter-widgets/controls",
       "_model_module_version": "1.5.0",
       "_model_name": "ProgressStyleModel",
       "_view_count": null,
       "_view_module": "@jupyter-widgets/base",
       "_view_module_version": "1.2.0",
       "_view_name": "StyleView",
       "bar_color": null,
       "description_width": ""
      }
     },
     "8052c36ca2cf4f018f43c77c6da76c8e": {
      "model_module": "@jupyter-widgets/controls",
      "model_module_version": "1.5.0",
      "model_name": "HTMLModel",
      "state": {
       "_dom_classes": [],
       "_model_module": "@jupyter-widgets/controls",
       "_model_module_version": "1.5.0",
       "_model_name": "HTMLModel",
       "_view_count": null,
       "_view_module": "@jupyter-widgets/controls",
       "_view_module_version": "1.5.0",
       "_view_name": "HTMLView",
       "description": "",
       "description_tooltip": null,
       "layout": "IPY_MODEL_3420440d476f4549b5350d92fa50eec1",
       "placeholder": "​",
       "style": "IPY_MODEL_4b425713644e4df9901e28a2f060625f",
       "value": " 440M/440M [00:01&lt;00:00, 242MB/s]"
      }
     },
     "82457ef631334337a49c295db0a383bc": {
      "model_module": "@jupyter-widgets/base",
      "model_module_version": "1.2.0",
      "model_name": "LayoutModel",
      "state": {
       "_model_module": "@jupyter-widgets/base",
       "_model_module_version": "1.2.0",
       "_model_name": "LayoutModel",
       "_view_count": null,
       "_view_module": "@jupyter-widgets/base",
       "_view_module_version": "1.2.0",
       "_view_name": "LayoutView",
       "align_content": null,
       "align_items": null,
       "align_self": null,
       "border": null,
       "bottom": null,
       "display": null,
       "flex": null,
       "flex_flow": null,
       "grid_area": null,
       "grid_auto_columns": null,
       "grid_auto_flow": null,
       "grid_auto_rows": null,
       "grid_column": null,
       "grid_gap": null,
       "grid_row": null,
       "grid_template_areas": null,
       "grid_template_columns": null,
       "grid_template_rows": null,
       "height": null,
       "justify_content": null,
       "justify_items": null,
       "left": null,
       "margin": null,
       "max_height": null,
       "max_width": null,
       "min_height": null,
       "min_width": null,
       "object_fit": null,
       "object_position": null,
       "order": null,
       "overflow": null,
       "overflow_x": null,
       "overflow_y": null,
       "padding": null,
       "right": null,
       "top": null,
       "visibility": null,
       "width": null
      }
     },
     "826e17ad44b3438ea022ca78e39763e5": {
      "model_module": "@jupyter-widgets/controls",
      "model_module_version": "1.5.0",
      "model_name": "HTMLModel",
      "state": {
       "_dom_classes": [],
       "_model_module": "@jupyter-widgets/controls",
       "_model_module_version": "1.5.0",
       "_model_name": "HTMLModel",
       "_view_count": null,
       "_view_module": "@jupyter-widgets/controls",
       "_view_module_version": "1.5.0",
       "_view_name": "HTMLView",
       "description": "",
       "description_tooltip": null,
       "layout": "IPY_MODEL_e47ef8654d924f71874f2637d5e070fd",
       "placeholder": "​",
       "style": "IPY_MODEL_36de9aa0bdc44ff0919ede1925ca95f0",
       "value": "tokenizer.json: 100%"
      }
     },
     "84f36add851042a5b6af5e446a6c6db0": {
      "model_module": "@jupyter-widgets/controls",
      "model_module_version": "1.5.0",
      "model_name": "HBoxModel",
      "state": {
       "_dom_classes": [],
       "_model_module": "@jupyter-widgets/controls",
       "_model_module_version": "1.5.0",
       "_model_name": "HBoxModel",
       "_view_count": null,
       "_view_module": "@jupyter-widgets/controls",
       "_view_module_version": "1.5.0",
       "_view_name": "HBoxView",
       "box_style": "",
       "children": [
        "IPY_MODEL_7d98eeccace64549beacbaf16f0c3dea",
        "IPY_MODEL_3ac8410da5f34e36920e7227fc75a034",
        "IPY_MODEL_26b71eb57ef343c38a84c33cfaa0f038"
       ],
       "layout": "IPY_MODEL_acf8ec49e9324682b3eb5bff808fb7ff"
      }
     },
     "8b241fd3df0445a996480c62768acbda": {
      "model_module": "@jupyter-widgets/base",
      "model_module_version": "1.2.0",
      "model_name": "LayoutModel",
      "state": {
       "_model_module": "@jupyter-widgets/base",
       "_model_module_version": "1.2.0",
       "_model_name": "LayoutModel",
       "_view_count": null,
       "_view_module": "@jupyter-widgets/base",
       "_view_module_version": "1.2.0",
       "_view_name": "LayoutView",
       "align_content": null,
       "align_items": null,
       "align_self": null,
       "border": null,
       "bottom": null,
       "display": null,
       "flex": null,
       "flex_flow": null,
       "grid_area": null,
       "grid_auto_columns": null,
       "grid_auto_flow": null,
       "grid_auto_rows": null,
       "grid_column": null,
       "grid_gap": null,
       "grid_row": null,
       "grid_template_areas": null,
       "grid_template_columns": null,
       "grid_template_rows": null,
       "height": null,
       "justify_content": null,
       "justify_items": null,
       "left": null,
       "margin": null,
       "max_height": null,
       "max_width": null,
       "min_height": null,
       "min_width": null,
       "object_fit": null,
       "object_position": null,
       "order": null,
       "overflow": null,
       "overflow_x": null,
       "overflow_y": null,
       "padding": null,
       "right": null,
       "top": null,
       "visibility": null,
       "width": null
      }
     },
     "8bd5cb042f91448d97f4f73c7598991f": {
      "model_module": "@jupyter-widgets/controls",
      "model_module_version": "1.5.0",
      "model_name": "FloatProgressModel",
      "state": {
       "_dom_classes": [],
       "_model_module": "@jupyter-widgets/controls",
       "_model_module_version": "1.5.0",
       "_model_name": "FloatProgressModel",
       "_view_count": null,
       "_view_module": "@jupyter-widgets/controls",
       "_view_module_version": "1.5.0",
       "_view_name": "ProgressView",
       "bar_style": "success",
       "description": "",
       "description_tooltip": null,
       "layout": "IPY_MODEL_7af7aeab44b9497f8ddef146b1578f13",
       "max": 48,
       "min": 0,
       "orientation": "horizontal",
       "style": "IPY_MODEL_4c0ad5f09cc346daad9cca86d2276172",
       "value": 48
      }
     },
     "9c453ea569e44233bd5d418d9ccbe91d": {
      "model_module": "@jupyter-widgets/controls",
      "model_module_version": "1.5.0",
      "model_name": "HTMLModel",
      "state": {
       "_dom_classes": [],
       "_model_module": "@jupyter-widgets/controls",
       "_model_module_version": "1.5.0",
       "_model_name": "HTMLModel",
       "_view_count": null,
       "_view_module": "@jupyter-widgets/controls",
       "_view_module_version": "1.5.0",
       "_view_name": "HTMLView",
       "description": "",
       "description_tooltip": null,
       "layout": "IPY_MODEL_0f33fb1b88434d38b21ae142d195a92d",
       "placeholder": "​",
       "style": "IPY_MODEL_f24a888639bf4a938453f9b8a460cc20",
       "value": "config.json: 100%"
      }
     },
     "9d12a19325d747f3bf4c60803b06b004": {
      "model_module": "@jupyter-widgets/controls",
      "model_module_version": "1.5.0",
      "model_name": "ProgressStyleModel",
      "state": {
       "_model_module": "@jupyter-widgets/controls",
       "_model_module_version": "1.5.0",
       "_model_name": "ProgressStyleModel",
       "_view_count": null,
       "_view_module": "@jupyter-widgets/base",
       "_view_module_version": "1.2.0",
       "_view_name": "StyleView",
       "bar_color": null,
       "description_width": ""
      }
     },
     "a87992ee78f6486197f933e2aaf2916d": {
      "model_module": "@jupyter-widgets/controls",
      "model_module_version": "1.5.0",
      "model_name": "HBoxModel",
      "state": {
       "_dom_classes": [],
       "_model_module": "@jupyter-widgets/controls",
       "_model_module_version": "1.5.0",
       "_model_name": "HBoxModel",
       "_view_count": null,
       "_view_module": "@jupyter-widgets/controls",
       "_view_module_version": "1.5.0",
       "_view_name": "HBoxView",
       "box_style": "",
       "children": [
        "IPY_MODEL_108f37373b164ebc88e5493371938cbb",
        "IPY_MODEL_cde4d567c97f48178a47ec6bd764faf2",
        "IPY_MODEL_8052c36ca2cf4f018f43c77c6da76c8e"
       ],
       "layout": "IPY_MODEL_0cbfb421cf4945708bc3c230228a0000"
      }
     },
     "acf8ec49e9324682b3eb5bff808fb7ff": {
      "model_module": "@jupyter-widgets/base",
      "model_module_version": "1.2.0",
      "model_name": "LayoutModel",
      "state": {
       "_model_module": "@jupyter-widgets/base",
       "_model_module_version": "1.2.0",
       "_model_name": "LayoutModel",
       "_view_count": null,
       "_view_module": "@jupyter-widgets/base",
       "_view_module_version": "1.2.0",
       "_view_name": "LayoutView",
       "align_content": null,
       "align_items": null,
       "align_self": null,
       "border": null,
       "bottom": null,
       "display": null,
       "flex": null,
       "flex_flow": null,
       "grid_area": null,
       "grid_auto_columns": null,
       "grid_auto_flow": null,
       "grid_auto_rows": null,
       "grid_column": null,
       "grid_gap": null,
       "grid_row": null,
       "grid_template_areas": null,
       "grid_template_columns": null,
       "grid_template_rows": null,
       "height": null,
       "justify_content": null,
       "justify_items": null,
       "left": null,
       "margin": null,
       "max_height": null,
       "max_width": null,
       "min_height": null,
       "min_width": null,
       "object_fit": null,
       "object_position": null,
       "order": null,
       "overflow": null,
       "overflow_x": null,
       "overflow_y": null,
       "padding": null,
       "right": null,
       "top": null,
       "visibility": null,
       "width": null
      }
     },
     "b3d1eeed90ed4992ac4bcc4d194873f5": {
      "model_module": "@jupyter-widgets/base",
      "model_module_version": "1.2.0",
      "model_name": "LayoutModel",
      "state": {
       "_model_module": "@jupyter-widgets/base",
       "_model_module_version": "1.2.0",
       "_model_name": "LayoutModel",
       "_view_count": null,
       "_view_module": "@jupyter-widgets/base",
       "_view_module_version": "1.2.0",
       "_view_name": "LayoutView",
       "align_content": null,
       "align_items": null,
       "align_self": null,
       "border": null,
       "bottom": null,
       "display": null,
       "flex": null,
       "flex_flow": null,
       "grid_area": null,
       "grid_auto_columns": null,
       "grid_auto_flow": null,
       "grid_auto_rows": null,
       "grid_column": null,
       "grid_gap": null,
       "grid_row": null,
       "grid_template_areas": null,
       "grid_template_columns": null,
       "grid_template_rows": null,
       "height": null,
       "justify_content": null,
       "justify_items": null,
       "left": null,
       "margin": null,
       "max_height": null,
       "max_width": null,
       "min_height": null,
       "min_width": null,
       "object_fit": null,
       "object_position": null,
       "order": null,
       "overflow": null,
       "overflow_x": null,
       "overflow_y": null,
       "padding": null,
       "right": null,
       "top": null,
       "visibility": null,
       "width": null
      }
     },
     "ba2f7f480e1148ba881613626d814a0b": {
      "model_module": "@jupyter-widgets/controls",
      "model_module_version": "1.5.0",
      "model_name": "DescriptionStyleModel",
      "state": {
       "_model_module": "@jupyter-widgets/controls",
       "_model_module_version": "1.5.0",
       "_model_name": "DescriptionStyleModel",
       "_view_count": null,
       "_view_module": "@jupyter-widgets/base",
       "_view_module_version": "1.2.0",
       "_view_name": "StyleView",
       "description_width": ""
      }
     },
     "c3f362e52d704267ba4b0c2e06af7069": {
      "model_module": "@jupyter-widgets/controls",
      "model_module_version": "1.5.0",
      "model_name": "HTMLModel",
      "state": {
       "_dom_classes": [],
       "_model_module": "@jupyter-widgets/controls",
       "_model_module_version": "1.5.0",
       "_model_name": "HTMLModel",
       "_view_count": null,
       "_view_module": "@jupyter-widgets/controls",
       "_view_module_version": "1.5.0",
       "_view_name": "HTMLView",
       "description": "",
       "description_tooltip": null,
       "layout": "IPY_MODEL_f677452fc67f4cb683cf01fa252c943e",
       "placeholder": "​",
       "style": "IPY_MODEL_696f37b9512f44f486d6ac63bd8c078d",
       "value": " 570/570 [00:00&lt;00:00, 55.8kB/s]"
      }
     },
     "cb095b335f96451490bda1b547465c34": {
      "model_module": "@jupyter-widgets/base",
      "model_module_version": "1.2.0",
      "model_name": "LayoutModel",
      "state": {
       "_model_module": "@jupyter-widgets/base",
       "_model_module_version": "1.2.0",
       "_model_name": "LayoutModel",
       "_view_count": null,
       "_view_module": "@jupyter-widgets/base",
       "_view_module_version": "1.2.0",
       "_view_name": "LayoutView",
       "align_content": null,
       "align_items": null,
       "align_self": null,
       "border": null,
       "bottom": null,
       "display": null,
       "flex": null,
       "flex_flow": null,
       "grid_area": null,
       "grid_auto_columns": null,
       "grid_auto_flow": null,
       "grid_auto_rows": null,
       "grid_column": null,
       "grid_gap": null,
       "grid_row": null,
       "grid_template_areas": null,
       "grid_template_columns": null,
       "grid_template_rows": null,
       "height": null,
       "justify_content": null,
       "justify_items": null,
       "left": null,
       "margin": null,
       "max_height": null,
       "max_width": null,
       "min_height": null,
       "min_width": null,
       "object_fit": null,
       "object_position": null,
       "order": null,
       "overflow": null,
       "overflow_x": null,
       "overflow_y": null,
       "padding": null,
       "right": null,
       "top": null,
       "visibility": null,
       "width": null
      }
     },
     "cde4d567c97f48178a47ec6bd764faf2": {
      "model_module": "@jupyter-widgets/controls",
      "model_module_version": "1.5.0",
      "model_name": "FloatProgressModel",
      "state": {
       "_dom_classes": [],
       "_model_module": "@jupyter-widgets/controls",
       "_model_module_version": "1.5.0",
       "_model_name": "FloatProgressModel",
       "_view_count": null,
       "_view_module": "@jupyter-widgets/controls",
       "_view_module_version": "1.5.0",
       "_view_name": "ProgressView",
       "bar_style": "success",
       "description": "",
       "description_tooltip": null,
       "layout": "IPY_MODEL_0eb197ff4f4049cfa66bafc227d636b1",
       "max": 440449768,
       "min": 0,
       "orientation": "horizontal",
       "style": "IPY_MODEL_defe6a82734e4d9b88a5f933bcb28ba6",
       "value": 440449768
      }
     },
     "db0ceedf6d1d402faa4b4b8dd1297849": {
      "model_module": "@jupyter-widgets/controls",
      "model_module_version": "1.5.0",
      "model_name": "FloatProgressModel",
      "state": {
       "_dom_classes": [],
       "_model_module": "@jupyter-widgets/controls",
       "_model_module_version": "1.5.0",
       "_model_name": "FloatProgressModel",
       "_view_count": null,
       "_view_module": "@jupyter-widgets/controls",
       "_view_module_version": "1.5.0",
       "_view_name": "ProgressView",
       "bar_style": "success",
       "description": "",
       "description_tooltip": null,
       "layout": "IPY_MODEL_30a242c30a8f44958ce8bd1564258497",
       "max": 570,
       "min": 0,
       "orientation": "horizontal",
       "style": "IPY_MODEL_7e346910a679415993a13a5c592d8951",
       "value": 570
      }
     },
     "defe6a82734e4d9b88a5f933bcb28ba6": {
      "model_module": "@jupyter-widgets/controls",
      "model_module_version": "1.5.0",
      "model_name": "ProgressStyleModel",
      "state": {
       "_model_module": "@jupyter-widgets/controls",
       "_model_module_version": "1.5.0",
       "_model_name": "ProgressStyleModel",
       "_view_count": null,
       "_view_module": "@jupyter-widgets/base",
       "_view_module_version": "1.2.0",
       "_view_name": "StyleView",
       "bar_color": null,
       "description_width": ""
      }
     },
     "e47ef8654d924f71874f2637d5e070fd": {
      "model_module": "@jupyter-widgets/base",
      "model_module_version": "1.2.0",
      "model_name": "LayoutModel",
      "state": {
       "_model_module": "@jupyter-widgets/base",
       "_model_module_version": "1.2.0",
       "_model_name": "LayoutModel",
       "_view_count": null,
       "_view_module": "@jupyter-widgets/base",
       "_view_module_version": "1.2.0",
       "_view_name": "LayoutView",
       "align_content": null,
       "align_items": null,
       "align_self": null,
       "border": null,
       "bottom": null,
       "display": null,
       "flex": null,
       "flex_flow": null,
       "grid_area": null,
       "grid_auto_columns": null,
       "grid_auto_flow": null,
       "grid_auto_rows": null,
       "grid_column": null,
       "grid_gap": null,
       "grid_row": null,
       "grid_template_areas": null,
       "grid_template_columns": null,
       "grid_template_rows": null,
       "height": null,
       "justify_content": null,
       "justify_items": null,
       "left": null,
       "margin": null,
       "max_height": null,
       "max_width": null,
       "min_height": null,
       "min_width": null,
       "object_fit": null,
       "object_position": null,
       "order": null,
       "overflow": null,
       "overflow_x": null,
       "overflow_y": null,
       "padding": null,
       "right": null,
       "top": null,
       "visibility": null,
       "width": null
      }
     },
     "f24a888639bf4a938453f9b8a460cc20": {
      "model_module": "@jupyter-widgets/controls",
      "model_module_version": "1.5.0",
      "model_name": "DescriptionStyleModel",
      "state": {
       "_model_module": "@jupyter-widgets/controls",
       "_model_module_version": "1.5.0",
       "_model_name": "DescriptionStyleModel",
       "_view_count": null,
       "_view_module": "@jupyter-widgets/base",
       "_view_module_version": "1.2.0",
       "_view_name": "StyleView",
       "description_width": ""
      }
     },
     "f677452fc67f4cb683cf01fa252c943e": {
      "model_module": "@jupyter-widgets/base",
      "model_module_version": "1.2.0",
      "model_name": "LayoutModel",
      "state": {
       "_model_module": "@jupyter-widgets/base",
       "_model_module_version": "1.2.0",
       "_model_name": "LayoutModel",
       "_view_count": null,
       "_view_module": "@jupyter-widgets/base",
       "_view_module_version": "1.2.0",
       "_view_name": "LayoutView",
       "align_content": null,
       "align_items": null,
       "align_self": null,
       "border": null,
       "bottom": null,
       "display": null,
       "flex": null,
       "flex_flow": null,
       "grid_area": null,
       "grid_auto_columns": null,
       "grid_auto_flow": null,
       "grid_auto_rows": null,
       "grid_column": null,
       "grid_gap": null,
       "grid_row": null,
       "grid_template_areas": null,
       "grid_template_columns": null,
       "grid_template_rows": null,
       "height": null,
       "justify_content": null,
       "justify_items": null,
       "left": null,
       "margin": null,
       "max_height": null,
       "max_width": null,
       "min_height": null,
       "min_width": null,
       "object_fit": null,
       "object_position": null,
       "order": null,
       "overflow": null,
       "overflow_x": null,
       "overflow_y": null,
       "padding": null,
       "right": null,
       "top": null,
       "visibility": null,
       "width": null
      }
     },
     "fb9a3e2097b044438a06b13f07625a79": {
      "model_module": "@jupyter-widgets/base",
      "model_module_version": "1.2.0",
      "model_name": "LayoutModel",
      "state": {
       "_model_module": "@jupyter-widgets/base",
       "_model_module_version": "1.2.0",
       "_model_name": "LayoutModel",
       "_view_count": null,
       "_view_module": "@jupyter-widgets/base",
       "_view_module_version": "1.2.0",
       "_view_name": "LayoutView",
       "align_content": null,
       "align_items": null,
       "align_self": null,
       "border": null,
       "bottom": null,
       "display": null,
       "flex": null,
       "flex_flow": null,
       "grid_area": null,
       "grid_auto_columns": null,
       "grid_auto_flow": null,
       "grid_auto_rows": null,
       "grid_column": null,
       "grid_gap": null,
       "grid_row": null,
       "grid_template_areas": null,
       "grid_template_columns": null,
       "grid_template_rows": null,
       "height": null,
       "justify_content": null,
       "justify_items": null,
       "left": null,
       "margin": null,
       "max_height": null,
       "max_width": null,
       "min_height": null,
       "min_width": null,
       "object_fit": null,
       "object_position": null,
       "order": null,
       "overflow": null,
       "overflow_x": null,
       "overflow_y": null,
       "padding": null,
       "right": null,
       "top": null,
       "visibility": null,
       "width": null
      }
     }
    },
    "version_major": 2,
    "version_minor": 0
   }
  }
 },
 "nbformat": 4,
 "nbformat_minor": 5
}
